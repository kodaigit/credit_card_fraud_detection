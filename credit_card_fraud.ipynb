{
 "cells": [
  {
   "cell_type": "markdown",
   "metadata": {},
   "source": [
    "## Credit Card Fraud Detection ##\n",
    "__Goal__\n",
    "\n",
    "In this notebook, my goal is to create a machine learning model to detect credit card fraud using a dataset from Kaggle. I would like to aim more than 90% of accuracy using a proper matric(the word accuracy here does not indicate a matric called accuracy). \n",
    "The target variable consists of 1 and 0. The values are encoded as 1 if they are frauds, otherwise 0. Thus, the model has to predict a value of the target variable given an instance. \n",
    "\n",
    "__Overview of the dataset__ \n",
    "\n",
    "The dataset contains transactions made by credit cards in September 2013 by european cardholders. This dataset presents transactions that occurred in two days, where we have 492 frauds out of 284,807 transactions. \n",
    "\n",
    "__Brief explanation of variables__\n",
    "\n",
    "- Time: seconds elapsed between a transaction and the very first transaction of this dataset(1st row of the dataset). \n",
    "- V1, V2, … V28: These are features that are trasfomed using PCA by the dataset provider. No more detailed information is available. \n",
    "- Amount:trasaction amount \n",
    "- Class: the target variable. 1 indicates a fraud. 0 indicates a normal transaction. "
   ]
  },
  {
   "cell_type": "code",
   "execution_count": 1,
   "metadata": {},
   "outputs": [],
   "source": [
    "import pandas as pd \n",
    "import sklearn \n",
    "import matplotlib.pyplot as plt\n",
    "import seaborn as sns\n",
    "import warnings\n",
    "warnings.filterwarnings('ignore')"
   ]
  },
  {
   "cell_type": "markdown",
   "metadata": {},
   "source": [
    "## EDA ##\n",
    "In this section, I will explore the dataset. "
   ]
  },
  {
   "cell_type": "code",
   "execution_count": 2,
   "metadata": {},
   "outputs": [],
   "source": [
    "## load the dataset first \n",
    "original_data = pd.read_csv('creditcard.csv')\n",
    "data = original_data.copy()"
   ]
  },
  {
   "cell_type": "code",
   "execution_count": 3,
   "metadata": {},
   "outputs": [
    {
     "data": {
      "text/html": [
       "<div>\n",
       "<style scoped>\n",
       "    .dataframe tbody tr th:only-of-type {\n",
       "        vertical-align: middle;\n",
       "    }\n",
       "\n",
       "    .dataframe tbody tr th {\n",
       "        vertical-align: top;\n",
       "    }\n",
       "\n",
       "    .dataframe thead th {\n",
       "        text-align: right;\n",
       "    }\n",
       "</style>\n",
       "<table border=\"1\" class=\"dataframe\">\n",
       "  <thead>\n",
       "    <tr style=\"text-align: right;\">\n",
       "      <th></th>\n",
       "      <th>Time</th>\n",
       "      <th>V1</th>\n",
       "      <th>V2</th>\n",
       "      <th>V3</th>\n",
       "      <th>V4</th>\n",
       "      <th>V5</th>\n",
       "      <th>V6</th>\n",
       "      <th>V7</th>\n",
       "      <th>V8</th>\n",
       "      <th>V9</th>\n",
       "      <th>...</th>\n",
       "      <th>V21</th>\n",
       "      <th>V22</th>\n",
       "      <th>V23</th>\n",
       "      <th>V24</th>\n",
       "      <th>V25</th>\n",
       "      <th>V26</th>\n",
       "      <th>V27</th>\n",
       "      <th>V28</th>\n",
       "      <th>Amount</th>\n",
       "      <th>Class</th>\n",
       "    </tr>\n",
       "  </thead>\n",
       "  <tbody>\n",
       "    <tr>\n",
       "      <th>0</th>\n",
       "      <td>0.0</td>\n",
       "      <td>-1.359807</td>\n",
       "      <td>-0.072781</td>\n",
       "      <td>2.536347</td>\n",
       "      <td>1.378155</td>\n",
       "      <td>-0.338321</td>\n",
       "      <td>0.462388</td>\n",
       "      <td>0.239599</td>\n",
       "      <td>0.098698</td>\n",
       "      <td>0.363787</td>\n",
       "      <td>...</td>\n",
       "      <td>-0.018307</td>\n",
       "      <td>0.277838</td>\n",
       "      <td>-0.110474</td>\n",
       "      <td>0.066928</td>\n",
       "      <td>0.128539</td>\n",
       "      <td>-0.189115</td>\n",
       "      <td>0.133558</td>\n",
       "      <td>-0.021053</td>\n",
       "      <td>149.62</td>\n",
       "      <td>0</td>\n",
       "    </tr>\n",
       "    <tr>\n",
       "      <th>1</th>\n",
       "      <td>0.0</td>\n",
       "      <td>1.191857</td>\n",
       "      <td>0.266151</td>\n",
       "      <td>0.166480</td>\n",
       "      <td>0.448154</td>\n",
       "      <td>0.060018</td>\n",
       "      <td>-0.082361</td>\n",
       "      <td>-0.078803</td>\n",
       "      <td>0.085102</td>\n",
       "      <td>-0.255425</td>\n",
       "      <td>...</td>\n",
       "      <td>-0.225775</td>\n",
       "      <td>-0.638672</td>\n",
       "      <td>0.101288</td>\n",
       "      <td>-0.339846</td>\n",
       "      <td>0.167170</td>\n",
       "      <td>0.125895</td>\n",
       "      <td>-0.008983</td>\n",
       "      <td>0.014724</td>\n",
       "      <td>2.69</td>\n",
       "      <td>0</td>\n",
       "    </tr>\n",
       "    <tr>\n",
       "      <th>2</th>\n",
       "      <td>1.0</td>\n",
       "      <td>-1.358354</td>\n",
       "      <td>-1.340163</td>\n",
       "      <td>1.773209</td>\n",
       "      <td>0.379780</td>\n",
       "      <td>-0.503198</td>\n",
       "      <td>1.800499</td>\n",
       "      <td>0.791461</td>\n",
       "      <td>0.247676</td>\n",
       "      <td>-1.514654</td>\n",
       "      <td>...</td>\n",
       "      <td>0.247998</td>\n",
       "      <td>0.771679</td>\n",
       "      <td>0.909412</td>\n",
       "      <td>-0.689281</td>\n",
       "      <td>-0.327642</td>\n",
       "      <td>-0.139097</td>\n",
       "      <td>-0.055353</td>\n",
       "      <td>-0.059752</td>\n",
       "      <td>378.66</td>\n",
       "      <td>0</td>\n",
       "    </tr>\n",
       "    <tr>\n",
       "      <th>3</th>\n",
       "      <td>1.0</td>\n",
       "      <td>-0.966272</td>\n",
       "      <td>-0.185226</td>\n",
       "      <td>1.792993</td>\n",
       "      <td>-0.863291</td>\n",
       "      <td>-0.010309</td>\n",
       "      <td>1.247203</td>\n",
       "      <td>0.237609</td>\n",
       "      <td>0.377436</td>\n",
       "      <td>-1.387024</td>\n",
       "      <td>...</td>\n",
       "      <td>-0.108300</td>\n",
       "      <td>0.005274</td>\n",
       "      <td>-0.190321</td>\n",
       "      <td>-1.175575</td>\n",
       "      <td>0.647376</td>\n",
       "      <td>-0.221929</td>\n",
       "      <td>0.062723</td>\n",
       "      <td>0.061458</td>\n",
       "      <td>123.50</td>\n",
       "      <td>0</td>\n",
       "    </tr>\n",
       "    <tr>\n",
       "      <th>4</th>\n",
       "      <td>2.0</td>\n",
       "      <td>-1.158233</td>\n",
       "      <td>0.877737</td>\n",
       "      <td>1.548718</td>\n",
       "      <td>0.403034</td>\n",
       "      <td>-0.407193</td>\n",
       "      <td>0.095921</td>\n",
       "      <td>0.592941</td>\n",
       "      <td>-0.270533</td>\n",
       "      <td>0.817739</td>\n",
       "      <td>...</td>\n",
       "      <td>-0.009431</td>\n",
       "      <td>0.798278</td>\n",
       "      <td>-0.137458</td>\n",
       "      <td>0.141267</td>\n",
       "      <td>-0.206010</td>\n",
       "      <td>0.502292</td>\n",
       "      <td>0.219422</td>\n",
       "      <td>0.215153</td>\n",
       "      <td>69.99</td>\n",
       "      <td>0</td>\n",
       "    </tr>\n",
       "  </tbody>\n",
       "</table>\n",
       "<p>5 rows × 31 columns</p>\n",
       "</div>"
      ],
      "text/plain": [
       "   Time        V1        V2        V3        V4        V5        V6        V7  \\\n",
       "0   0.0 -1.359807 -0.072781  2.536347  1.378155 -0.338321  0.462388  0.239599   \n",
       "1   0.0  1.191857  0.266151  0.166480  0.448154  0.060018 -0.082361 -0.078803   \n",
       "2   1.0 -1.358354 -1.340163  1.773209  0.379780 -0.503198  1.800499  0.791461   \n",
       "3   1.0 -0.966272 -0.185226  1.792993 -0.863291 -0.010309  1.247203  0.237609   \n",
       "4   2.0 -1.158233  0.877737  1.548718  0.403034 -0.407193  0.095921  0.592941   \n",
       "\n",
       "         V8        V9  ...       V21       V22       V23       V24       V25  \\\n",
       "0  0.098698  0.363787  ... -0.018307  0.277838 -0.110474  0.066928  0.128539   \n",
       "1  0.085102 -0.255425  ... -0.225775 -0.638672  0.101288 -0.339846  0.167170   \n",
       "2  0.247676 -1.514654  ...  0.247998  0.771679  0.909412 -0.689281 -0.327642   \n",
       "3  0.377436 -1.387024  ... -0.108300  0.005274 -0.190321 -1.175575  0.647376   \n",
       "4 -0.270533  0.817739  ... -0.009431  0.798278 -0.137458  0.141267 -0.206010   \n",
       "\n",
       "        V26       V27       V28  Amount  Class  \n",
       "0 -0.189115  0.133558 -0.021053  149.62      0  \n",
       "1  0.125895 -0.008983  0.014724    2.69      0  \n",
       "2 -0.139097 -0.055353 -0.059752  378.66      0  \n",
       "3 -0.221929  0.062723  0.061458  123.50      0  \n",
       "4  0.502292  0.219422  0.215153   69.99      0  \n",
       "\n",
       "[5 rows x 31 columns]"
      ]
     },
     "execution_count": 3,
     "metadata": {},
     "output_type": "execute_result"
    }
   ],
   "source": [
    "data.head()"
   ]
  },
  {
   "cell_type": "code",
   "execution_count": 4,
   "metadata": {
    "scrolled": false
   },
   "outputs": [
    {
     "name": "stdout",
     "output_type": "stream",
     "text": [
      "<class 'pandas.core.frame.DataFrame'>\n",
      "RangeIndex: 284807 entries, 0 to 284806\n",
      "Data columns (total 31 columns):\n",
      " #   Column  Non-Null Count   Dtype  \n",
      "---  ------  --------------   -----  \n",
      " 0   Time    284807 non-null  float64\n",
      " 1   V1      284807 non-null  float64\n",
      " 2   V2      284807 non-null  float64\n",
      " 3   V3      284807 non-null  float64\n",
      " 4   V4      284807 non-null  float64\n",
      " 5   V5      284807 non-null  float64\n",
      " 6   V6      284807 non-null  float64\n",
      " 7   V7      284807 non-null  float64\n",
      " 8   V8      284807 non-null  float64\n",
      " 9   V9      284807 non-null  float64\n",
      " 10  V10     284807 non-null  float64\n",
      " 11  V11     284807 non-null  float64\n",
      " 12  V12     284807 non-null  float64\n",
      " 13  V13     284807 non-null  float64\n",
      " 14  V14     284807 non-null  float64\n",
      " 15  V15     284807 non-null  float64\n",
      " 16  V16     284807 non-null  float64\n",
      " 17  V17     284807 non-null  float64\n",
      " 18  V18     284807 non-null  float64\n",
      " 19  V19     284807 non-null  float64\n",
      " 20  V20     284807 non-null  float64\n",
      " 21  V21     284807 non-null  float64\n",
      " 22  V22     284807 non-null  float64\n",
      " 23  V23     284807 non-null  float64\n",
      " 24  V24     284807 non-null  float64\n",
      " 25  V25     284807 non-null  float64\n",
      " 26  V26     284807 non-null  float64\n",
      " 27  V27     284807 non-null  float64\n",
      " 28  V28     284807 non-null  float64\n",
      " 29  Amount  284807 non-null  float64\n",
      " 30  Class   284807 non-null  int64  \n",
      "dtypes: float64(30), int64(1)\n",
      "memory usage: 67.4 MB\n"
     ]
    }
   ],
   "source": [
    "data.info()"
   ]
  },
  {
   "cell_type": "markdown",
   "metadata": {},
   "source": [
    "### Investigate target variable ###\n",
    "I will see a balance of the target variable. Specifically, I will see how much it is unbalanced. "
   ]
  },
  {
   "cell_type": "code",
   "execution_count": 5,
   "metadata": {},
   "outputs": [
    {
     "data": {
      "text/plain": [
       "0    99.827251\n",
       "1     0.172749\n",
       "Name: Class, dtype: float64"
      ]
     },
     "execution_count": 5,
     "metadata": {},
     "output_type": "execute_result"
    }
   ],
   "source": [
    "data['Class'].value_counts(normalize=True)*100"
   ]
  },
  {
   "cell_type": "code",
   "execution_count": 6,
   "metadata": {},
   "outputs": [
    {
     "data": {
      "text/plain": [
       "0    284315\n",
       "1       492\n",
       "Name: Class, dtype: int64"
      ]
     },
     "execution_count": 6,
     "metadata": {},
     "output_type": "execute_result"
    }
   ],
   "source": [
    "data['Class'].value_counts()"
   ]
  },
  {
   "cell_type": "markdown",
   "metadata": {},
   "source": [
    "This indicates that only 0.17 percent of the dataset is fraud instances. The dataset is heavily unbalanced. I think that I need to undersample, oversample, or datageneration before modeling. "
   ]
  },
  {
   "cell_type": "markdown",
   "metadata": {},
   "source": [
    "### Investigate predictors (Vs) ###\n",
    "In this section, I will analyze the V variables. I will apply basic descriptive statistics and see if there are potential outliers. "
   ]
  },
  {
   "cell_type": "code",
   "execution_count": 7,
   "metadata": {},
   "outputs": [
    {
     "data": {
      "text/html": [
       "<div>\n",
       "<style scoped>\n",
       "    .dataframe tbody tr th:only-of-type {\n",
       "        vertical-align: middle;\n",
       "    }\n",
       "\n",
       "    .dataframe tbody tr th {\n",
       "        vertical-align: top;\n",
       "    }\n",
       "\n",
       "    .dataframe thead th {\n",
       "        text-align: right;\n",
       "    }\n",
       "</style>\n",
       "<table border=\"1\" class=\"dataframe\">\n",
       "  <thead>\n",
       "    <tr style=\"text-align: right;\">\n",
       "      <th></th>\n",
       "      <th>V1</th>\n",
       "      <th>V2</th>\n",
       "      <th>V3</th>\n",
       "      <th>V4</th>\n",
       "      <th>V5</th>\n",
       "      <th>V6</th>\n",
       "      <th>V7</th>\n",
       "      <th>V8</th>\n",
       "      <th>V9</th>\n",
       "      <th>V10</th>\n",
       "      <th>...</th>\n",
       "      <th>V19</th>\n",
       "      <th>V20</th>\n",
       "      <th>V21</th>\n",
       "      <th>V22</th>\n",
       "      <th>V23</th>\n",
       "      <th>V24</th>\n",
       "      <th>V25</th>\n",
       "      <th>V26</th>\n",
       "      <th>V27</th>\n",
       "      <th>V28</th>\n",
       "    </tr>\n",
       "  </thead>\n",
       "  <tbody>\n",
       "    <tr>\n",
       "      <th>0</th>\n",
       "      <td>-1.359807</td>\n",
       "      <td>-0.072781</td>\n",
       "      <td>2.536347</td>\n",
       "      <td>1.378155</td>\n",
       "      <td>-0.338321</td>\n",
       "      <td>0.462388</td>\n",
       "      <td>0.239599</td>\n",
       "      <td>0.098698</td>\n",
       "      <td>0.363787</td>\n",
       "      <td>0.090794</td>\n",
       "      <td>...</td>\n",
       "      <td>0.403993</td>\n",
       "      <td>0.251412</td>\n",
       "      <td>-0.018307</td>\n",
       "      <td>0.277838</td>\n",
       "      <td>-0.110474</td>\n",
       "      <td>0.066928</td>\n",
       "      <td>0.128539</td>\n",
       "      <td>-0.189115</td>\n",
       "      <td>0.133558</td>\n",
       "      <td>-0.021053</td>\n",
       "    </tr>\n",
       "    <tr>\n",
       "      <th>1</th>\n",
       "      <td>1.191857</td>\n",
       "      <td>0.266151</td>\n",
       "      <td>0.166480</td>\n",
       "      <td>0.448154</td>\n",
       "      <td>0.060018</td>\n",
       "      <td>-0.082361</td>\n",
       "      <td>-0.078803</td>\n",
       "      <td>0.085102</td>\n",
       "      <td>-0.255425</td>\n",
       "      <td>-0.166974</td>\n",
       "      <td>...</td>\n",
       "      <td>-0.145783</td>\n",
       "      <td>-0.069083</td>\n",
       "      <td>-0.225775</td>\n",
       "      <td>-0.638672</td>\n",
       "      <td>0.101288</td>\n",
       "      <td>-0.339846</td>\n",
       "      <td>0.167170</td>\n",
       "      <td>0.125895</td>\n",
       "      <td>-0.008983</td>\n",
       "      <td>0.014724</td>\n",
       "    </tr>\n",
       "    <tr>\n",
       "      <th>2</th>\n",
       "      <td>-1.358354</td>\n",
       "      <td>-1.340163</td>\n",
       "      <td>1.773209</td>\n",
       "      <td>0.379780</td>\n",
       "      <td>-0.503198</td>\n",
       "      <td>1.800499</td>\n",
       "      <td>0.791461</td>\n",
       "      <td>0.247676</td>\n",
       "      <td>-1.514654</td>\n",
       "      <td>0.207643</td>\n",
       "      <td>...</td>\n",
       "      <td>-2.261857</td>\n",
       "      <td>0.524980</td>\n",
       "      <td>0.247998</td>\n",
       "      <td>0.771679</td>\n",
       "      <td>0.909412</td>\n",
       "      <td>-0.689281</td>\n",
       "      <td>-0.327642</td>\n",
       "      <td>-0.139097</td>\n",
       "      <td>-0.055353</td>\n",
       "      <td>-0.059752</td>\n",
       "    </tr>\n",
       "    <tr>\n",
       "      <th>3</th>\n",
       "      <td>-0.966272</td>\n",
       "      <td>-0.185226</td>\n",
       "      <td>1.792993</td>\n",
       "      <td>-0.863291</td>\n",
       "      <td>-0.010309</td>\n",
       "      <td>1.247203</td>\n",
       "      <td>0.237609</td>\n",
       "      <td>0.377436</td>\n",
       "      <td>-1.387024</td>\n",
       "      <td>-0.054952</td>\n",
       "      <td>...</td>\n",
       "      <td>-1.232622</td>\n",
       "      <td>-0.208038</td>\n",
       "      <td>-0.108300</td>\n",
       "      <td>0.005274</td>\n",
       "      <td>-0.190321</td>\n",
       "      <td>-1.175575</td>\n",
       "      <td>0.647376</td>\n",
       "      <td>-0.221929</td>\n",
       "      <td>0.062723</td>\n",
       "      <td>0.061458</td>\n",
       "    </tr>\n",
       "    <tr>\n",
       "      <th>4</th>\n",
       "      <td>-1.158233</td>\n",
       "      <td>0.877737</td>\n",
       "      <td>1.548718</td>\n",
       "      <td>0.403034</td>\n",
       "      <td>-0.407193</td>\n",
       "      <td>0.095921</td>\n",
       "      <td>0.592941</td>\n",
       "      <td>-0.270533</td>\n",
       "      <td>0.817739</td>\n",
       "      <td>0.753074</td>\n",
       "      <td>...</td>\n",
       "      <td>0.803487</td>\n",
       "      <td>0.408542</td>\n",
       "      <td>-0.009431</td>\n",
       "      <td>0.798278</td>\n",
       "      <td>-0.137458</td>\n",
       "      <td>0.141267</td>\n",
       "      <td>-0.206010</td>\n",
       "      <td>0.502292</td>\n",
       "      <td>0.219422</td>\n",
       "      <td>0.215153</td>\n",
       "    </tr>\n",
       "  </tbody>\n",
       "</table>\n",
       "<p>5 rows × 28 columns</p>\n",
       "</div>"
      ],
      "text/plain": [
       "         V1        V2        V3        V4        V5        V6        V7  \\\n",
       "0 -1.359807 -0.072781  2.536347  1.378155 -0.338321  0.462388  0.239599   \n",
       "1  1.191857  0.266151  0.166480  0.448154  0.060018 -0.082361 -0.078803   \n",
       "2 -1.358354 -1.340163  1.773209  0.379780 -0.503198  1.800499  0.791461   \n",
       "3 -0.966272 -0.185226  1.792993 -0.863291 -0.010309  1.247203  0.237609   \n",
       "4 -1.158233  0.877737  1.548718  0.403034 -0.407193  0.095921  0.592941   \n",
       "\n",
       "         V8        V9       V10  ...       V19       V20       V21       V22  \\\n",
       "0  0.098698  0.363787  0.090794  ...  0.403993  0.251412 -0.018307  0.277838   \n",
       "1  0.085102 -0.255425 -0.166974  ... -0.145783 -0.069083 -0.225775 -0.638672   \n",
       "2  0.247676 -1.514654  0.207643  ... -2.261857  0.524980  0.247998  0.771679   \n",
       "3  0.377436 -1.387024 -0.054952  ... -1.232622 -0.208038 -0.108300  0.005274   \n",
       "4 -0.270533  0.817739  0.753074  ...  0.803487  0.408542 -0.009431  0.798278   \n",
       "\n",
       "        V23       V24       V25       V26       V27       V28  \n",
       "0 -0.110474  0.066928  0.128539 -0.189115  0.133558 -0.021053  \n",
       "1  0.101288 -0.339846  0.167170  0.125895 -0.008983  0.014724  \n",
       "2  0.909412 -0.689281 -0.327642 -0.139097 -0.055353 -0.059752  \n",
       "3 -0.190321 -1.175575  0.647376 -0.221929  0.062723  0.061458  \n",
       "4 -0.137458  0.141267 -0.206010  0.502292  0.219422  0.215153  \n",
       "\n",
       "[5 rows x 28 columns]"
      ]
     },
     "execution_count": 7,
     "metadata": {},
     "output_type": "execute_result"
    }
   ],
   "source": [
    "v_vars = data.filter(regex=\"V.\")\n",
    "v_vars.head()"
   ]
  },
  {
   "cell_type": "code",
   "execution_count": 8,
   "metadata": {},
   "outputs": [
    {
     "data": {
      "text/html": [
       "<div>\n",
       "<style scoped>\n",
       "    .dataframe tbody tr th:only-of-type {\n",
       "        vertical-align: middle;\n",
       "    }\n",
       "\n",
       "    .dataframe tbody tr th {\n",
       "        vertical-align: top;\n",
       "    }\n",
       "\n",
       "    .dataframe thead th {\n",
       "        text-align: right;\n",
       "    }\n",
       "</style>\n",
       "<table border=\"1\" class=\"dataframe\">\n",
       "  <thead>\n",
       "    <tr style=\"text-align: right;\">\n",
       "      <th></th>\n",
       "      <th>V1</th>\n",
       "      <th>V2</th>\n",
       "      <th>V3</th>\n",
       "      <th>V4</th>\n",
       "      <th>V5</th>\n",
       "      <th>V6</th>\n",
       "      <th>V7</th>\n",
       "      <th>V8</th>\n",
       "      <th>V9</th>\n",
       "      <th>V10</th>\n",
       "      <th>...</th>\n",
       "      <th>V19</th>\n",
       "      <th>V20</th>\n",
       "      <th>V21</th>\n",
       "      <th>V22</th>\n",
       "      <th>V23</th>\n",
       "      <th>V24</th>\n",
       "      <th>V25</th>\n",
       "      <th>V26</th>\n",
       "      <th>V27</th>\n",
       "      <th>V28</th>\n",
       "    </tr>\n",
       "  </thead>\n",
       "  <tbody>\n",
       "    <tr>\n",
       "      <th>count</th>\n",
       "      <td>2.848070e+05</td>\n",
       "      <td>2.848070e+05</td>\n",
       "      <td>2.848070e+05</td>\n",
       "      <td>2.848070e+05</td>\n",
       "      <td>2.848070e+05</td>\n",
       "      <td>2.848070e+05</td>\n",
       "      <td>2.848070e+05</td>\n",
       "      <td>2.848070e+05</td>\n",
       "      <td>2.848070e+05</td>\n",
       "      <td>2.848070e+05</td>\n",
       "      <td>...</td>\n",
       "      <td>2.848070e+05</td>\n",
       "      <td>2.848070e+05</td>\n",
       "      <td>2.848070e+05</td>\n",
       "      <td>2.848070e+05</td>\n",
       "      <td>2.848070e+05</td>\n",
       "      <td>2.848070e+05</td>\n",
       "      <td>2.848070e+05</td>\n",
       "      <td>2.848070e+05</td>\n",
       "      <td>2.848070e+05</td>\n",
       "      <td>2.848070e+05</td>\n",
       "    </tr>\n",
       "    <tr>\n",
       "      <th>mean</th>\n",
       "      <td>3.919560e-15</td>\n",
       "      <td>5.688174e-16</td>\n",
       "      <td>-8.769071e-15</td>\n",
       "      <td>2.782312e-15</td>\n",
       "      <td>-1.552563e-15</td>\n",
       "      <td>2.010663e-15</td>\n",
       "      <td>-1.694249e-15</td>\n",
       "      <td>-1.927028e-16</td>\n",
       "      <td>-3.137024e-15</td>\n",
       "      <td>1.768627e-15</td>\n",
       "      <td>...</td>\n",
       "      <td>9.049732e-16</td>\n",
       "      <td>5.085503e-16</td>\n",
       "      <td>1.537294e-16</td>\n",
       "      <td>7.959909e-16</td>\n",
       "      <td>5.367590e-16</td>\n",
       "      <td>4.458112e-15</td>\n",
       "      <td>1.453003e-15</td>\n",
       "      <td>1.699104e-15</td>\n",
       "      <td>-3.660161e-16</td>\n",
       "      <td>-1.206049e-16</td>\n",
       "    </tr>\n",
       "    <tr>\n",
       "      <th>std</th>\n",
       "      <td>1.958696e+00</td>\n",
       "      <td>1.651309e+00</td>\n",
       "      <td>1.516255e+00</td>\n",
       "      <td>1.415869e+00</td>\n",
       "      <td>1.380247e+00</td>\n",
       "      <td>1.332271e+00</td>\n",
       "      <td>1.237094e+00</td>\n",
       "      <td>1.194353e+00</td>\n",
       "      <td>1.098632e+00</td>\n",
       "      <td>1.088850e+00</td>\n",
       "      <td>...</td>\n",
       "      <td>8.140405e-01</td>\n",
       "      <td>7.709250e-01</td>\n",
       "      <td>7.345240e-01</td>\n",
       "      <td>7.257016e-01</td>\n",
       "      <td>6.244603e-01</td>\n",
       "      <td>6.056471e-01</td>\n",
       "      <td>5.212781e-01</td>\n",
       "      <td>4.822270e-01</td>\n",
       "      <td>4.036325e-01</td>\n",
       "      <td>3.300833e-01</td>\n",
       "    </tr>\n",
       "    <tr>\n",
       "      <th>min</th>\n",
       "      <td>-5.640751e+01</td>\n",
       "      <td>-7.271573e+01</td>\n",
       "      <td>-4.832559e+01</td>\n",
       "      <td>-5.683171e+00</td>\n",
       "      <td>-1.137433e+02</td>\n",
       "      <td>-2.616051e+01</td>\n",
       "      <td>-4.355724e+01</td>\n",
       "      <td>-7.321672e+01</td>\n",
       "      <td>-1.343407e+01</td>\n",
       "      <td>-2.458826e+01</td>\n",
       "      <td>...</td>\n",
       "      <td>-7.213527e+00</td>\n",
       "      <td>-5.449772e+01</td>\n",
       "      <td>-3.483038e+01</td>\n",
       "      <td>-1.093314e+01</td>\n",
       "      <td>-4.480774e+01</td>\n",
       "      <td>-2.836627e+00</td>\n",
       "      <td>-1.029540e+01</td>\n",
       "      <td>-2.604551e+00</td>\n",
       "      <td>-2.256568e+01</td>\n",
       "      <td>-1.543008e+01</td>\n",
       "    </tr>\n",
       "    <tr>\n",
       "      <th>25%</th>\n",
       "      <td>-9.203734e-01</td>\n",
       "      <td>-5.985499e-01</td>\n",
       "      <td>-8.903648e-01</td>\n",
       "      <td>-8.486401e-01</td>\n",
       "      <td>-6.915971e-01</td>\n",
       "      <td>-7.682956e-01</td>\n",
       "      <td>-5.540759e-01</td>\n",
       "      <td>-2.086297e-01</td>\n",
       "      <td>-6.430976e-01</td>\n",
       "      <td>-5.354257e-01</td>\n",
       "      <td>...</td>\n",
       "      <td>-4.562989e-01</td>\n",
       "      <td>-2.117214e-01</td>\n",
       "      <td>-2.283949e-01</td>\n",
       "      <td>-5.423504e-01</td>\n",
       "      <td>-1.618463e-01</td>\n",
       "      <td>-3.545861e-01</td>\n",
       "      <td>-3.171451e-01</td>\n",
       "      <td>-3.269839e-01</td>\n",
       "      <td>-7.083953e-02</td>\n",
       "      <td>-5.295979e-02</td>\n",
       "    </tr>\n",
       "    <tr>\n",
       "      <th>50%</th>\n",
       "      <td>1.810880e-02</td>\n",
       "      <td>6.548556e-02</td>\n",
       "      <td>1.798463e-01</td>\n",
       "      <td>-1.984653e-02</td>\n",
       "      <td>-5.433583e-02</td>\n",
       "      <td>-2.741871e-01</td>\n",
       "      <td>4.010308e-02</td>\n",
       "      <td>2.235804e-02</td>\n",
       "      <td>-5.142873e-02</td>\n",
       "      <td>-9.291738e-02</td>\n",
       "      <td>...</td>\n",
       "      <td>3.734823e-03</td>\n",
       "      <td>-6.248109e-02</td>\n",
       "      <td>-2.945017e-02</td>\n",
       "      <td>6.781943e-03</td>\n",
       "      <td>-1.119293e-02</td>\n",
       "      <td>4.097606e-02</td>\n",
       "      <td>1.659350e-02</td>\n",
       "      <td>-5.213911e-02</td>\n",
       "      <td>1.342146e-03</td>\n",
       "      <td>1.124383e-02</td>\n",
       "    </tr>\n",
       "    <tr>\n",
       "      <th>75%</th>\n",
       "      <td>1.315642e+00</td>\n",
       "      <td>8.037239e-01</td>\n",
       "      <td>1.027196e+00</td>\n",
       "      <td>7.433413e-01</td>\n",
       "      <td>6.119264e-01</td>\n",
       "      <td>3.985649e-01</td>\n",
       "      <td>5.704361e-01</td>\n",
       "      <td>3.273459e-01</td>\n",
       "      <td>5.971390e-01</td>\n",
       "      <td>4.539234e-01</td>\n",
       "      <td>...</td>\n",
       "      <td>4.589494e-01</td>\n",
       "      <td>1.330408e-01</td>\n",
       "      <td>1.863772e-01</td>\n",
       "      <td>5.285536e-01</td>\n",
       "      <td>1.476421e-01</td>\n",
       "      <td>4.395266e-01</td>\n",
       "      <td>3.507156e-01</td>\n",
       "      <td>2.409522e-01</td>\n",
       "      <td>9.104512e-02</td>\n",
       "      <td>7.827995e-02</td>\n",
       "    </tr>\n",
       "    <tr>\n",
       "      <th>max</th>\n",
       "      <td>2.454930e+00</td>\n",
       "      <td>2.205773e+01</td>\n",
       "      <td>9.382558e+00</td>\n",
       "      <td>1.687534e+01</td>\n",
       "      <td>3.480167e+01</td>\n",
       "      <td>7.330163e+01</td>\n",
       "      <td>1.205895e+02</td>\n",
       "      <td>2.000721e+01</td>\n",
       "      <td>1.559499e+01</td>\n",
       "      <td>2.374514e+01</td>\n",
       "      <td>...</td>\n",
       "      <td>5.591971e+00</td>\n",
       "      <td>3.942090e+01</td>\n",
       "      <td>2.720284e+01</td>\n",
       "      <td>1.050309e+01</td>\n",
       "      <td>2.252841e+01</td>\n",
       "      <td>4.584549e+00</td>\n",
       "      <td>7.519589e+00</td>\n",
       "      <td>3.517346e+00</td>\n",
       "      <td>3.161220e+01</td>\n",
       "      <td>3.384781e+01</td>\n",
       "    </tr>\n",
       "  </tbody>\n",
       "</table>\n",
       "<p>8 rows × 28 columns</p>\n",
       "</div>"
      ],
      "text/plain": [
       "                 V1            V2            V3            V4            V5  \\\n",
       "count  2.848070e+05  2.848070e+05  2.848070e+05  2.848070e+05  2.848070e+05   \n",
       "mean   3.919560e-15  5.688174e-16 -8.769071e-15  2.782312e-15 -1.552563e-15   \n",
       "std    1.958696e+00  1.651309e+00  1.516255e+00  1.415869e+00  1.380247e+00   \n",
       "min   -5.640751e+01 -7.271573e+01 -4.832559e+01 -5.683171e+00 -1.137433e+02   \n",
       "25%   -9.203734e-01 -5.985499e-01 -8.903648e-01 -8.486401e-01 -6.915971e-01   \n",
       "50%    1.810880e-02  6.548556e-02  1.798463e-01 -1.984653e-02 -5.433583e-02   \n",
       "75%    1.315642e+00  8.037239e-01  1.027196e+00  7.433413e-01  6.119264e-01   \n",
       "max    2.454930e+00  2.205773e+01  9.382558e+00  1.687534e+01  3.480167e+01   \n",
       "\n",
       "                 V6            V7            V8            V9           V10  \\\n",
       "count  2.848070e+05  2.848070e+05  2.848070e+05  2.848070e+05  2.848070e+05   \n",
       "mean   2.010663e-15 -1.694249e-15 -1.927028e-16 -3.137024e-15  1.768627e-15   \n",
       "std    1.332271e+00  1.237094e+00  1.194353e+00  1.098632e+00  1.088850e+00   \n",
       "min   -2.616051e+01 -4.355724e+01 -7.321672e+01 -1.343407e+01 -2.458826e+01   \n",
       "25%   -7.682956e-01 -5.540759e-01 -2.086297e-01 -6.430976e-01 -5.354257e-01   \n",
       "50%   -2.741871e-01  4.010308e-02  2.235804e-02 -5.142873e-02 -9.291738e-02   \n",
       "75%    3.985649e-01  5.704361e-01  3.273459e-01  5.971390e-01  4.539234e-01   \n",
       "max    7.330163e+01  1.205895e+02  2.000721e+01  1.559499e+01  2.374514e+01   \n",
       "\n",
       "       ...           V19           V20           V21           V22  \\\n",
       "count  ...  2.848070e+05  2.848070e+05  2.848070e+05  2.848070e+05   \n",
       "mean   ...  9.049732e-16  5.085503e-16  1.537294e-16  7.959909e-16   \n",
       "std    ...  8.140405e-01  7.709250e-01  7.345240e-01  7.257016e-01   \n",
       "min    ... -7.213527e+00 -5.449772e+01 -3.483038e+01 -1.093314e+01   \n",
       "25%    ... -4.562989e-01 -2.117214e-01 -2.283949e-01 -5.423504e-01   \n",
       "50%    ...  3.734823e-03 -6.248109e-02 -2.945017e-02  6.781943e-03   \n",
       "75%    ...  4.589494e-01  1.330408e-01  1.863772e-01  5.285536e-01   \n",
       "max    ...  5.591971e+00  3.942090e+01  2.720284e+01  1.050309e+01   \n",
       "\n",
       "                V23           V24           V25           V26           V27  \\\n",
       "count  2.848070e+05  2.848070e+05  2.848070e+05  2.848070e+05  2.848070e+05   \n",
       "mean   5.367590e-16  4.458112e-15  1.453003e-15  1.699104e-15 -3.660161e-16   \n",
       "std    6.244603e-01  6.056471e-01  5.212781e-01  4.822270e-01  4.036325e-01   \n",
       "min   -4.480774e+01 -2.836627e+00 -1.029540e+01 -2.604551e+00 -2.256568e+01   \n",
       "25%   -1.618463e-01 -3.545861e-01 -3.171451e-01 -3.269839e-01 -7.083953e-02   \n",
       "50%   -1.119293e-02  4.097606e-02  1.659350e-02 -5.213911e-02  1.342146e-03   \n",
       "75%    1.476421e-01  4.395266e-01  3.507156e-01  2.409522e-01  9.104512e-02   \n",
       "max    2.252841e+01  4.584549e+00  7.519589e+00  3.517346e+00  3.161220e+01   \n",
       "\n",
       "                V28  \n",
       "count  2.848070e+05  \n",
       "mean  -1.206049e-16  \n",
       "std    3.300833e-01  \n",
       "min   -1.543008e+01  \n",
       "25%   -5.295979e-02  \n",
       "50%    1.124383e-02  \n",
       "75%    7.827995e-02  \n",
       "max    3.384781e+01  \n",
       "\n",
       "[8 rows x 28 columns]"
      ]
     },
     "execution_count": 8,
     "metadata": {},
     "output_type": "execute_result"
    }
   ],
   "source": [
    "#apply descriptive statistics to the dataset \n",
    "v_vars.describe()"
   ]
  },
  {
   "cell_type": "code",
   "execution_count": 9,
   "metadata": {
    "scrolled": false
   },
   "outputs": [
    {
     "data": {
      "text/plain": [
       "<AxesSubplot:>"
      ]
     },
     "execution_count": 9,
     "metadata": {},
     "output_type": "execute_result"
    },
    {
     "data": {
      "image/png": "[encoded data removed]",
      "text/plain": [
       "<Figure size 1440x720 with 1 Axes>"
      ]
     },
     "metadata": {
      "needs_background": "light"
     },
     "output_type": "display_data"
    }
   ],
   "source": [
    "#creating boxplots (not limit axies)\n",
    "v_vars.boxplot(column=list(v_vars.columns),figsize=(20,10))"
   ]
  },
  {
   "cell_type": "markdown",
   "metadata": {},
   "source": [
    "These boxplots are not limited based on axies. Although many values are beyond wiskers, there are other values that are significantly different from others. For instance, V5, V6, and V7 have values that are far from other values. They must be outliers. However, those outliers might indicate fradulent transactions, so I will leave them for now. I will look at relationships among variables later. "
   ]
  },
  {
   "cell_type": "code",
   "execution_count": 10,
   "metadata": {},
   "outputs": [
    {
     "data": {
      "text/plain": [
       "(-20.0, 20.0)"
      ]
     },
     "execution_count": 10,
     "metadata": {},
     "output_type": "execute_result"
    },
    {
     "data": {
      "image/png": "[encoded data removed]",
      "text/plain": [
       "<Figure size 1440x720 with 1 Axes>"
      ]
     },
     "metadata": {
      "needs_background": "light"
     },
     "output_type": "display_data"
    }
   ],
   "source": [
    "#limit y axis \n",
    "v_vars.boxplot(column=list(v_vars.columns),figsize=(20,10))\n",
    "plt.ylim(-20,20)"
   ]
  },
  {
   "cell_type": "markdown",
   "metadata": {},
   "source": [
    "- I focus only on boxes. V1 has the widest distribution. V27 Aand V28 have the narrowest distribution. V8, V20, V21, V23, and V26 have also relatively small distribution. \n",
    "- It is interesting that V1 has no values above the upper range. V3 seems also to have the characteristic. \n",
    "- V4, V11 have more values beyond the upper wisker. \n",
    "- V12, V24, and V17 have more values below the lower wisker. "
   ]
  },
  {
   "cell_type": "markdown",
   "metadata": {},
   "source": [
    "Since there is no background infromation about these variables, it is hard to decide which values are exactly outliers. However, when looking at the boxplots with no limitation on y axis, there are some values that are far from other values in some variables. I will treat them as outliers. "
   ]
  },
  {
   "cell_type": "markdown",
   "metadata": {},
   "source": [
    "### Investigate Time variable ###\n",
    "I will distribution of time. I hope I can see when credit card transactions often occur if there is such a terend. Time variable is described as seconds. I will focus only on transactions that occured within 24 hours since the first transaction. "
   ]
  },
  {
   "cell_type": "code",
   "execution_count": 11,
   "metadata": {},
   "outputs": [],
   "source": [
    "time = data['Time']\n",
    "trans_24 = time[time<=86400]"
   ]
  },
  {
   "cell_type": "code",
   "execution_count": 12,
   "metadata": {},
   "outputs": [
    {
     "data": {
      "text/plain": [
       "Text(0.5, 1.0, 'First 24 hours in seconds')"
      ]
     },
     "execution_count": 12,
     "metadata": {},
     "output_type": "execute_result"
    },
    {
     "data": {
      "image/png": "[encoded data removed]",
      "text/plain": [
       "<Figure size 432x288 with 1 Axes>"
      ]
     },
     "metadata": {
      "needs_background": "light"
     },
     "output_type": "display_data"
    }
   ],
   "source": [
    "trans_24.plot.density()\n",
    "plt.xlim(0,86400)\n",
    "plt.title(\"First 24 hours in seconds\")"
   ]
  },
  {
   "cell_type": "markdown",
   "metadata": {},
   "source": [
    "I can see that the number of transactions first decline, then go up and become stedy and decline. \n",
    "Since it is unknown when the first transaction occured, I can't guess that which period of seconds is noon, morning, etc. However, based on this, it looks like that there is a trend "
   ]
  },
  {
   "cell_type": "code",
   "execution_count": 13,
   "metadata": {},
   "outputs": [
    {
     "data": {
      "text/plain": [
       "Text(0.5, 1.0, 'Second 24 hours in seconds')"
      ]
     },
     "execution_count": 13,
     "metadata": {},
     "output_type": "execute_result"
    },
    {
     "data": {
      "image/png": "[encoded data removed]",
      "text/plain": [
       "<Figure size 432x288 with 1 Axes>"
      ]
     },
     "metadata": {
      "needs_background": "light"
     },
     "output_type": "display_data"
    }
   ],
   "source": [
    "#let's see the other part as well. \n",
    "trans_another24 = time[time>86400]\n",
    "trans_another24.plot.density()\n",
    "plt.xlim(86400,time.max())\n",
    "plt.title(\"Second 24 hours in seconds\")"
   ]
  },
  {
   "cell_type": "markdown",
   "metadata": {},
   "source": [
    "Yep, the overall trend looks same. "
   ]
  },
  {
   "cell_type": "markdown",
   "metadata": {},
   "source": [
    "Since it is described in seconds, it is a bit hard to read. Let's convert seconds into hour. I would like to describe each instance within 24 hours basis."
   ]
  },
  {
   "cell_type": "code",
   "execution_count": 14,
   "metadata": {},
   "outputs": [],
   "source": [
    "def sec_hour(seconds):\n",
    "    hour = seconds // 3600 \n",
    "    if hour >= 24:\n",
    "        return hour - 24\n",
    "    return hour "
   ]
  },
  {
   "cell_type": "code",
   "execution_count": 15,
   "metadata": {},
   "outputs": [],
   "source": [
    "time_hour = data['Time'].apply(sec_hour)"
   ]
  },
  {
   "cell_type": "code",
   "execution_count": 16,
   "metadata": {},
   "outputs": [
    {
     "data": {
      "text/plain": [
       "Text(0.5, 1.0, '# of transactions in 24 hour')"
      ]
     },
     "execution_count": 16,
     "metadata": {},
     "output_type": "execute_result"
    },
    {
     "data": {
      "image/png": "[encoded data removed]",
      "text/plain": [
       "<Figure size 432x288 with 1 Axes>"
      ]
     },
     "metadata": {
      "needs_background": "light"
     },
     "output_type": "display_data"
    }
   ],
   "source": [
    "time_hour.plot.density()\n",
    "plt.xlim(0,24)\n",
    "plt.title(\"# of transactions in 24 hour\")"
   ]
  },
  {
   "cell_type": "markdown",
   "metadata": {},
   "source": [
    "This graph shows the number of transactions in 24 hours. Although it is not told when the first transaction was recorded. I think that it is almost safe to think that the first transaction was recorded at 0:00 and the hour in the graph describes time. This is because, it does make sense that the number of transactions is high from 9 to around 22. This range is a period when people are active. Moreover, it also makes sense that the number is low around 5 since it is morning."
   ]
  },
  {
   "cell_type": "markdown",
   "metadata": {},
   "source": [
    "Thus, assuming the graph describes actual time, I can conclude that the number of credit card transactions is low around 5am, then it keeps increasing from 5am to 9am. Then, from 9am to 10pm, it keeps high amount of transactions and it starts to decrease from around 10pm. "
   ]
  },
  {
   "cell_type": "code",
   "execution_count": 17,
   "metadata": {},
   "outputs": [],
   "source": [
    "#let's add column describing hour in the original dataset \n",
    "data['hour'] = time_hour"
   ]
  },
  {
   "cell_type": "markdown",
   "metadata": {},
   "source": [
    "### Investigate amount variable \n",
    "I will see the distribution of amount variable and apply descriptive statistics to it. "
   ]
  },
  {
   "cell_type": "code",
   "execution_count": 18,
   "metadata": {},
   "outputs": [
    {
     "data": {
      "text/plain": [
       "count    284807.000000\n",
       "mean         88.349619\n",
       "std         250.120109\n",
       "min           0.000000\n",
       "25%           5.600000\n",
       "50%          22.000000\n",
       "75%          77.165000\n",
       "max       25691.160000\n",
       "Name: Amount, dtype: float64"
      ]
     },
     "execution_count": 18,
     "metadata": {},
     "output_type": "execute_result"
    }
   ],
   "source": [
    "#apply descriptive statistics \n",
    "data['Amount'].describe()"
   ]
  },
  {
   "cell_type": "markdown",
   "metadata": {},
   "source": [
    "There is a huge gap between mean and median. Moreover, sd is also big. I can expect that there are some extreme values in this data. There is an interesting thing that the minimum trasnaction amount is 0. I don't know if it is error or is an actual data. "
   ]
  },
  {
   "cell_type": "code",
   "execution_count": 19,
   "metadata": {
    "scrolled": false
   },
   "outputs": [
    {
     "data": {
      "text/plain": [
       "Text(0.5, 1.0, 'limit y to 1000')"
      ]
     },
     "execution_count": 19,
     "metadata": {},
     "output_type": "execute_result"
    },
    {
     "data": {
      "image/png": "[encoded data removed]",
      "text/plain": [
       "<Figure size 1440x720 with 3 Axes>"
      ]
     },
     "metadata": {
      "needs_background": "light"
     },
     "output_type": "display_data"
    }
   ],
   "source": [
    "#boxplot\n",
    "fig, axes = plt.subplots(1,3,figsize=(20, 10))\n",
    "data['Amount'].plot.box(ax=axes[0])\n",
    "axes[0].set_title('no limit on y aix')\n",
    "\n",
    "data['Amount'].plot.box(ax=axes[1])\n",
    "axes[1].set_ylim(0,5000)\n",
    "axes[1].set_title('limit y to 5000')\n",
    "\n",
    "data['Amount'].plot.box(ax=axes[2])\n",
    "axes[2].set_ylim(0,1000)\n",
    "axes[2].set_title('limit y to 1000')"
   ]
  },
  {
   "cell_type": "markdown",
   "metadata": {},
   "source": [
    "It is obvious that there are many observations beyond the upper whisker. Most of values fall below 200."
   ]
  },
  {
   "cell_type": "code",
   "execution_count": 20,
   "metadata": {
    "scrolled": false
   },
   "outputs": [
    {
     "data": {
      "text/plain": [
       "<AxesSubplot:ylabel='Density'>"
      ]
     },
     "execution_count": 20,
     "metadata": {},
     "output_type": "execute_result"
    },
    {
     "data": {
      "image/png": "[encoded data removed]",
      "text/plain": [
       "<Figure size 720x360 with 2 Axes>"
      ]
     },
     "metadata": {
      "needs_background": "light"
     },
     "output_type": "display_data"
    }
   ],
   "source": [
    "fig, axes = plt.subplots(1,2,figsize=(10,5))\n",
    "data['Amount'].plot.density(ax=axes[0])\n",
    "data['Amount'].plot.density(ax=axes[1],xlim=(0,200))"
   ]
  },
  {
   "cell_type": "markdown",
   "metadata": {},
   "source": [
    "It looks like that most typical transaction amount it around 22. Trasactions with more than that amount get rarer as the amount increases. "
   ]
  },
  {
   "cell_type": "code",
   "execution_count": 21,
   "metadata": {},
   "outputs": [
    {
     "name": "stdout",
     "output_type": "stream",
     "text": [
      "# of 0 amount transasction 1825\n",
      "# of 0 amount transasction in % 0.6407848121710491\n"
     ]
    }
   ],
   "source": [
    "#about 0 trasnaction amount. \n",
    "#see how many transactions have 0 amount of transaction\n",
    "print('# of 0 amount transasction', sum(data[\"Amount\"]==0))\n",
    "print(\"# of 0 amount transasction in %\", (sum(data[\"Amount\"]==0) / len(data))*100)"
   ]
  },
  {
   "cell_type": "code",
   "execution_count": 22,
   "metadata": {},
   "outputs": [
    {
     "data": {
      "text/plain": [
       "27"
      ]
     },
     "execution_count": 22,
     "metadata": {},
     "output_type": "execute_result"
    }
   ],
   "source": [
    "data.loc[data['Amount']==0,'Class'].sum()"
   ]
  },
  {
   "cell_type": "markdown",
   "metadata": {},
   "source": [
    "The kind of trasaction does exist in the dataset, but not many. It also looks like that the transaction contains some fradulent transactions. I cannot decide if they should be dropped from the dataset ot not. Since the dataset does not contain many positive class and the 0 amount of transaction might have some meaning, I will leave them for now. "
   ]
  },
  {
   "cell_type": "markdown",
   "metadata": {},
   "source": [
    "### Investigate relationships between predictors and the target variable (V variables) "
   ]
  },
  {
   "cell_type": "markdown",
   "metadata": {},
   "source": [
    "I will visualize distibution of each variable depending on the class. Then, after that, I will apply a hypotheisis test to see whether the difference caused by the class is statistically significant or not. "
   ]
  },
  {
   "cell_type": "code",
   "execution_count": 23,
   "metadata": {
    "scrolled": false
   },
   "outputs": [
    {
     "data": {
      "image/png": "[encoded data removed]",
      "text/plain": [
       "<Figure size 1080x1440 with 28 Axes>"
      ]
     },
     "metadata": {
      "needs_background": "light"
     },
     "output_type": "display_data"
    }
   ],
   "source": [
    "fig, axes = plt.subplots(4,7,figsize=(15,20))\n",
    "v_value = 0 \n",
    "for row in range(4):\n",
    "    for column in range(7):\n",
    "        sns.violinplot(\"Class\",v_vars.columns[v_value],data=data, ax = axes[row,column])\n",
    "        v_value += 1 \n",
    "plt.tight_layout()"
   ]
  },
  {
   "cell_type": "markdown",
   "metadata": {},
   "source": [
    "Focusing on a big picture, some variables have different distribution of them depending on classes. They need to be investigated further since they might be good predictors in making prediction. I think that those predictors are..\n",
    "- V3, V4, V7, V9, V10, V11, V12, V14, V16, V17, and V18. "
   ]
  },
  {
   "cell_type": "markdown",
   "metadata": {},
   "source": [
    "I will see if the difference is statitically significant or not using hypothesis test. I can use Independent T Samples T-test or Man Whitney U test. Which one to use is depending on normality. "
   ]
  },
  {
   "cell_type": "code",
   "execution_count": 24,
   "metadata": {},
   "outputs": [],
   "source": [
    "#create a function that check normality and apply a suitable hypothesis test. \n",
    "from scipy import stats\n",
    "def independent_group_stat_test(group1, group2, alpha_normal=0.05, alpha_test=0.05):\n",
    "    \"\"\"\n",
    "    group1: 1D array like object \n",
    "    group2: 1D array like object \n",
    "    alpha_normal: significance level used for normality test \n",
    "    alpha_test: significance level used for hypothesis test. \n",
    "    \"\"\"\n",
    "    \n",
    "    if(stats.kstest(group1,'norm').pvalue <=alpha_normal or stats.kstest(group2,'norm').pvalue <=alpha_normal):\n",
    "        return stats.mannwhitneyu(group1, group2).pvalue\n",
    "    \n",
    "    else:\n",
    "        \n",
    "        return stats.ttest_ind(group1, group2).pvalue     "
   ]
  },
  {
   "cell_type": "code",
   "execution_count": 25,
   "metadata": {},
   "outputs": [],
   "source": [
    "V_for_test = ['V3', 'V4', 'V7', 'V9', 'V10', 'V11', 'V12', 'V14', 'V16', 'V17', 'V18']\n",
    "p_values = []\n",
    "for v in V_for_test:\n",
    "    class1 = data.loc[data['Class']==1,v]\n",
    "    class0  = data.loc[data['Class']==0,v]\n",
    "    \n",
    "    p_values.append(independent_group_stat_test(class1,class0)) \n",
    "\n",
    "v_p_val = pd.Series(p_values,index=V_for_test)"
   ]
  },
  {
   "cell_type": "code",
   "execution_count": 26,
   "metadata": {
    "scrolled": true
   },
   "outputs": [
    {
     "data": {
      "text/plain": [
       "V3     6.055240e-220\n",
       "V4     1.812952e-248\n",
       "V7     7.321168e-147\n",
       "V9     4.471862e-154\n",
       "V10    4.805565e-222\n",
       "V11    2.455296e-226\n",
       "V12    4.208013e-247\n",
       "V14    7.357903e-261\n",
       "V16    9.040861e-157\n",
       "V17    4.609692e-124\n",
       "V18     1.324481e-77\n",
       "dtype: float64"
      ]
     },
     "execution_count": 26,
     "metadata": {},
     "output_type": "execute_result"
    }
   ],
   "source": [
    "v_p_val"
   ]
  },
  {
   "cell_type": "markdown",
   "metadata": {},
   "source": [
    "It looks like that all of the difference among two groups in each of the variable is statistically significant. This information can be used for making new feature. "
   ]
  },
  {
   "cell_type": "markdown",
   "metadata": {},
   "source": [
    "### Target and Time \n",
    "In this section, I will investigate a relationship between Time variable and the target. Specifically, I would like to see when the frauds happen and time elapsed from the most recent fraud. "
   ]
  },
  {
   "cell_type": "code",
   "execution_count": 27,
   "metadata": {},
   "outputs": [
    {
     "data": {
      "text/plain": [
       "Text(0.5, 1.0, '# of frauds for per hour')"
      ]
     },
     "execution_count": 27,
     "metadata": {},
     "output_type": "execute_result"
    },
    {
     "data": {
      "image/png": "[encoded data removed]",
      "text/plain": [
       "<Figure size 432x288 with 1 Axes>"
      ]
     },
     "metadata": {
      "needs_background": "light"
     },
     "output_type": "display_data"
    }
   ],
   "source": [
    "grouped_hour = data[[\"Class\",\"hour\"]].groupby(by='hour').sum()\n",
    "grouped_hour.index = [int(x) for x in grouped_hour.index]\n",
    "grouped_hour.plot.bar(rot=0,legend=None)\n",
    "plt.xlabel(\"Time\")\n",
    "plt.ylabel(\"Frequency\")\n",
    "plt.title(\"# of frauds for per hour\")"
   ]
  },
  {
   "cell_type": "markdown",
   "metadata": {},
   "source": [
    "I can see that there are two peaks in the plot. The number of frauds suddenly increase at 2 and 11. Moreover, It seems like that there is a weak trend that the number increases until 4AM, decrease, and again increase from 12 to 18. Moreover, it seems like that the number of frauds is bigger in the afternoon. Let's check it. "
   ]
  },
  {
   "cell_type": "markdown",
   "metadata": {},
   "source": [
    "I define morning time as a periord from 0 to 11(inclusive) and afternoon as a period from 12 to 23(inclusive). "
   ]
  },
  {
   "cell_type": "code",
   "execution_count": 28,
   "metadata": {},
   "outputs": [
    {
     "name": "stdout",
     "output_type": "stream",
     "text": [
      "# of frauds in Morning on average Class    20.166667\n",
      "dtype: float64\n",
      "# of frauds in Afternoon  on average Class    20.833333\n",
      "dtype: float64\n"
     ]
    }
   ],
   "source": [
    "print(\"# of frauds in Morning on average\", grouped_hour[:12].mean())\n",
    "print(\"# of frauds in Afternoon  on average\", grouped_hour[12:].mean())"
   ]
  },
  {
   "cell_type": "code",
   "execution_count": 29,
   "metadata": {},
   "outputs": [
    {
     "name": "stdout",
     "output_type": "stream",
     "text": [
      "After getting rid of 2 and 11 from Morning time \n",
      "# of frauds in Morning on average Class    13.2\n",
      "dtype: float64\n",
      "# of frauds in Afternoon  on average Class    20.833333\n",
      "dtype: float64\n"
     ]
    }
   ],
   "source": [
    "print(\"After getting rid of 2 and 11 from Morning time \")\n",
    "print(\"# of frauds in Morning on average\", grouped_hour.loc[grouped_hour[:12].index.drop([2,11])].mean())\n",
    "print(\"# of frauds in Afternoon  on average\", grouped_hour[12:].mean())"
   ]
  },
  {
   "cell_type": "code",
   "execution_count": 30,
   "metadata": {},
   "outputs": [
    {
     "name": "stdout",
     "output_type": "stream",
     "text": [
      "Median\n",
      "# of frauds in Morning on average Class    13.5\n",
      "dtype: float64\n",
      "# of frauds in Afternoon  on average Class    20.0\n",
      "dtype: float64\n"
     ]
    }
   ],
   "source": [
    "print(\"Median\")\n",
    "print(\"# of frauds in Morning on average\", grouped_hour[:12].median())\n",
    "print(\"# of frauds in Afternoon  on average\", grouped_hour[12:].median())"
   ]
  },
  {
   "cell_type": "markdown",
   "metadata": {},
   "source": [
    "I got rid of 2 and 11 from Morning time because they have significantly high number of frauds and this distort the average number of frauds in Morning time. On average, there is 13.2 times of fraud in Morning time and 20.8 time in afternoon. This difference can also be seen through medians. Thus, it looks like that the frauds can happen more in Afternoon rather than Morning time. "
   ]
  },
  {
   "cell_type": "markdown",
   "metadata": {},
   "source": [
    "I mentioned that it seems like there is a weak trend in the the number of frauds. To see this, let's compute autocorrlation. "
   ]
  },
  {
   "cell_type": "code",
   "execution_count": 31,
   "metadata": {
    "scrolled": false
   },
   "outputs": [
    {
     "data": {
      "image/png": "[encoded data removed]",
      "text/plain": [
       "<Figure size 720x360 with 1 Axes>"
      ]
     },
     "metadata": {
      "needs_background": "light"
     },
     "output_type": "display_data"
    }
   ],
   "source": [
    "fig = plt.figure(figsize=(10,5))\n",
    "auto_corr = [] \n",
    "for num in range(24):\n",
    "    series = grouped_hour['Class']\n",
    "    auto_corr.append(series.autocorr(num)) \n",
    "plt.bar(range(24),auto_corr)\n",
    "plt.xticks(range(24));\n",
    "plt.title('Autocorrelation')\n",
    "plt.xlabel(\"Lag\");"
   ]
  },
  {
   "cell_type": "markdown",
   "metadata": {},
   "source": [
    "At lag 9, I can observe a relatively high corrlation. This matches my expectation. Although there are high correlations at bigger lags, I think that they are not really meaningful. This is because, they compare an original dataset and a very small size shifted series. "
   ]
  },
  {
   "cell_type": "markdown",
   "metadata": {},
   "source": [
    "Instead of putting all of data in a range from 0 to 24, it is also useful to put it in a range from 0 to 48 scale and see autocorrelation. Let's implement it. "
   ]
  },
  {
   "cell_type": "code",
   "execution_count": 32,
   "metadata": {},
   "outputs": [
    {
     "data": {
      "text/plain": [
       "0          0.0\n",
       "1          0.0\n",
       "2          0.0\n",
       "3          0.0\n",
       "4          0.0\n",
       "          ... \n",
       "284802    47.0\n",
       "284803    47.0\n",
       "284804    47.0\n",
       "284805    47.0\n",
       "284806    47.0\n",
       "Name: hour_48, Length: 284807, dtype: float64"
      ]
     },
     "execution_count": 32,
     "metadata": {},
     "output_type": "execute_result"
    }
   ],
   "source": [
    "data['hour_48'] = data['Time'] // 3600\n",
    "data['hour_48']"
   ]
  },
  {
   "cell_type": "code",
   "execution_count": 33,
   "metadata": {},
   "outputs": [
    {
     "data": {
      "text/plain": [
       "Text(0.5, 1.0, '# of frauds per hour (48 scale)')"
      ]
     },
     "execution_count": 33,
     "metadata": {},
     "output_type": "execute_result"
    },
    {
     "data": {
      "image/png": "[encoded data removed]",
      "text/plain": [
       "<Figure size 864x360 with 1 Axes>"
      ]
     },
     "metadata": {
      "needs_background": "light"
     },
     "output_type": "display_data"
    }
   ],
   "source": [
    "grouped_hour_48 = data[[\"Class\",\"hour_48\"]].groupby(by='hour_48').sum()\n",
    "grouped_hour_48.index = [int(x) for x in grouped_hour_48.index]\n",
    "grouped_hour_48.plot.bar(rot=0, figsize=(12,5))\n",
    "plt.legend('')\n",
    "plt.xlabel('Time')\n",
    "plt.ylabel('Frequency')\n",
    "plt.title('# of frauds per hour (48 scale)')"
   ]
  },
  {
   "cell_type": "code",
   "execution_count": 34,
   "metadata": {},
   "outputs": [
    {
     "data": {
      "text/plain": [
       "<matplotlib.collections.LineCollection at 0x207dcf52c40>"
      ]
     },
     "execution_count": 34,
     "metadata": {},
     "output_type": "execute_result"
    },
    {
     "data": {
      "image/png": "[encoded data removed]",
      "text/plain": [
       "<Figure size 1008x360 with 1 Axes>"
      ]
     },
     "metadata": {
      "needs_background": "light"
     },
     "output_type": "display_data"
    }
   ],
   "source": [
    "fig = plt.figure(figsize=(14,5))\n",
    "auto_corr_48 = [] \n",
    "for num in range(48):\n",
    "    series = grouped_hour_48['Class']\n",
    "    auto_corr_48.append(series.autocorr(num)) \n",
    "plt.bar(range(48),auto_corr_48)\n",
    "plt.xticks(range(48));\n",
    "plt.title('Autocorrelation')\n",
    "plt.xlabel(\"Lag\");\n",
    "plt.hlines([0.3,-0.3],xmin=0,xmax=47,color='red',linestyles='solid')"
   ]
  },
  {
   "cell_type": "markdown",
   "metadata": {},
   "source": [
    "Overall it looks like that it is not very different from Autocorrelation plot based on 24 hours. One thing that I can see is that autocorrelation at 22 turns to be negative in this plot. And, there are some autocorrelations that are above or below 0.3 and -0.3 after lag 24. "
   ]
  },
  {
   "cell_type": "markdown",
   "metadata": {},
   "source": [
    "Since hours are still big scale, let's calculate autocorrelation based on seconds and minutes.  "
   ]
  },
  {
   "cell_type": "code",
   "execution_count": 35,
   "metadata": {},
   "outputs": [
    {
     "data": {
      "text/plain": [
       "Text(0.5, 1.0, '# of frauds per minute')"
      ]
     },
     "execution_count": 35,
     "metadata": {},
     "output_type": "execute_result"
    },
    {
     "data": {
      "image/png": "[encoded data removed]",
      "text/plain": [
       "<Figure size 864x360 with 1 Axes>"
      ]
     },
     "metadata": {
      "needs_background": "light"
     },
     "output_type": "display_data"
    }
   ],
   "source": [
    "#minutes\n",
    "data['minutes'] = data['Time'] // 60\n",
    "grouped_minutes = data[[\"Class\",\"minutes\"]].groupby(by='minutes').sum()\n",
    "grouped_minutes.index = [int(x) for x in grouped_minutes.index]\n",
    "grouped_minutes.plot.line(rot=0, figsize=(12,5))\n",
    "plt.legend('')\n",
    "plt.xlabel('Time')\n",
    "plt.ylabel('Frequency')\n",
    "plt.title('# of frauds per minute')"
   ]
  },
  {
   "cell_type": "code",
   "execution_count": 36,
   "metadata": {},
   "outputs": [
    {
     "data": {
      "text/plain": [
       "<matplotlib.collections.LineCollection at 0x207ddd76790>"
      ]
     },
     "execution_count": 36,
     "metadata": {},
     "output_type": "execute_result"
    },
    {
     "data": {
      "image/png": "[encoded data removed]",
      "text/plain": [
       "<Figure size 1008x360 with 1 Axes>"
      ]
     },
     "metadata": {
      "needs_background": "light"
     },
     "output_type": "display_data"
    }
   ],
   "source": [
    "fig = plt.figure(figsize=(14,5))\n",
    "auto_corr_minutes = [] \n",
    "for num in grouped_minutes.index:\n",
    "    series = grouped_minutes['Class']\n",
    "    auto_corr_minutes.append(series.autocorr(num)) \n",
    "plt.plot(auto_corr_minutes)\n",
    "plt.ylim((-0.8,0.8))\n",
    "plt.hlines([0.3,-0.3],grouped_minutes.index[0],grouped_minutes.index[-1],colors='red',linestyles='solid')"
   ]
  },
  {
   "cell_type": "markdown",
   "metadata": {},
   "source": [
    "Here, I can see that there is no remarkable autocorrelation. In my opinion, it is because of the fact that only a few or none frauds happne in an interval based on minutes. Thus, I think that it will not be meaningfull to calculate autocorrelation in terms of seconds since it will just give more granularity to the interval and will lead a same result as this. "
   ]
  },
  {
   "cell_type": "markdown",
   "metadata": {},
   "source": [
    "Do frauds happen convergently? In other words, I would like to see what the time interval between a fraud and a most recent fraud."
   ]
  },
  {
   "cell_type": "code",
   "execution_count": 37,
   "metadata": {},
   "outputs": [],
   "source": [
    "frauds_time = data.loc[data['Class']==1,'Time']\n",
    "frauds_time_shiftBy1 = frauds_time.shift(1)\n",
    "#calculate the difference of seconds between a fraud and the most recent fraud. \n",
    "diff_sec = frauds_time - frauds_time_shiftBy1"
   ]
  },
  {
   "cell_type": "code",
   "execution_count": 38,
   "metadata": {},
   "outputs": [
    {
     "data": {
      "text/plain": [
       "count     491.000000\n",
       "mean      346.114053\n",
       "std       605.125508\n",
       "min         0.000000\n",
       "25%        25.000000\n",
       "50%       126.000000\n",
       "75%       398.500000\n",
       "max      5489.000000\n",
       "Name: Time, dtype: float64"
      ]
     },
     "execution_count": 38,
     "metadata": {},
     "output_type": "execute_result"
    }
   ],
   "source": [
    "diff_sec.describe()"
   ]
  },
  {
   "cell_type": "code",
   "execution_count": 39,
   "metadata": {
    "scrolled": true
   },
   "outputs": [
    {
     "data": {
      "text/plain": [
       "count     8.0\n",
       "mean      5.0\n",
       "std      10.0\n",
       "min       0.0\n",
       "25%       0.0\n",
       "50%       2.0\n",
       "75%       6.0\n",
       "max      91.0\n",
       "Name: Time, dtype: float64"
      ]
     },
     "execution_count": 39,
     "metadata": {},
     "output_type": "execute_result"
    }
   ],
   "source": [
    "diff_sec.describe()//60"
   ]
  },
  {
   "cell_type": "code",
   "execution_count": 40,
   "metadata": {},
   "outputs": [
    {
     "data": {
      "image/png": "[encoded data removed]",
      "text/plain": [
       "<Figure size 1080x360 with 2 Axes>"
      ]
     },
     "metadata": {
      "needs_background": "light"
     },
     "output_type": "display_data"
    }
   ],
   "source": [
    "fig, axes = plt.subplots(1,2,figsize=(15,5))\n",
    "diff_sec.plot.hist(ax=axes[0],xticks=range(0,5000,500))\n",
    "sns.violinplot(diff_sec,ax=axes[1])\n",
    "axes[1].set_xticks(range(0,5000,500));\n",
    "axes[1].set_xticklabels(range(0,5000,500));"
   ]
  },
  {
   "cell_type": "markdown",
   "metadata": {},
   "source": [
    "Accoding to the median value, it looks like that a fraud tends to happen 2 minutes after the most recent fraud. Moreover, when looking at the distribution, most of time intervals fall below 500 seconds(8 minutes). \n",
    "Alright, I am stopping investigating the relationship between time and the response variable. Let's move onto the relationship between Amount and the response variable. "
   ]
  },
  {
   "cell_type": "markdown",
   "metadata": {},
   "source": [
    "### Target and Amount"
   ]
  },
  {
   "cell_type": "markdown",
   "metadata": {},
   "source": [
    "In this section, I will analyze the relationship between Amount and the target variable. First, let's see if there is a difference between normal transaction amount and trasaction amount associated with frauds. "
   ]
  },
  {
   "cell_type": "code",
   "execution_count": 41,
   "metadata": {},
   "outputs": [],
   "source": [
    "frauds_amount = data.loc[data['Class']==1,'Amount']\n",
    "normal_amount =data.loc[data['Class']==0,'Amount']"
   ]
  },
  {
   "cell_type": "code",
   "execution_count": 42,
   "metadata": {},
   "outputs": [
    {
     "name": "stdout",
     "output_type": "stream",
     "text": [
      "frauds\n",
      "count     492.000000\n",
      "mean      122.211321\n",
      "std       256.683288\n",
      "min         0.000000\n",
      "25%         1.000000\n",
      "50%         9.250000\n",
      "75%       105.890000\n",
      "max      2125.870000\n",
      "Name: Amount, dtype: float64\n",
      "______________________\n",
      "normal\n",
      "count    284315.000000\n",
      "mean         88.291022\n",
      "std         250.105092\n",
      "min           0.000000\n",
      "25%           5.650000\n",
      "50%          22.000000\n",
      "75%          77.050000\n",
      "max       25691.160000\n",
      "Name: Amount, dtype: float64\n"
     ]
    }
   ],
   "source": [
    "print(\"frauds\")\n",
    "print(frauds_amount.describe())\n",
    "print(\"______________________\")\n",
    "print('normal')\n",
    "print(normal_amount.describe())"
   ]
  },
  {
   "cell_type": "markdown",
   "metadata": {},
   "source": [
    "The distribution of normal transaction amounts is not really different from the distribution fo all of values in Amount variable. This makes sense that a very small portion of the dataset is fradulent. "
   ]
  },
  {
   "cell_type": "code",
   "execution_count": 43,
   "metadata": {},
   "outputs": [
    {
     "data": {
      "text/plain": [
       "(0.0, 1000.0)"
      ]
     },
     "execution_count": 43,
     "metadata": {},
     "output_type": "execute_result"
    },
    {
     "data": {
      "image/png": "[encoded data removed]",
      "text/plain": [
       "<Figure size 1080x360 with 3 Axes>"
      ]
     },
     "metadata": {
      "needs_background": "light"
     },
     "output_type": "display_data"
    }
   ],
   "source": [
    "fig, axes = plt.subplots(1,3,figsize=(15,5))\n",
    "data.boxplot('Amount','Class',ax=axes[0])\n",
    "axes[0].set_ylim(0,400)\n",
    "plt.suptitle(\"\")\n",
    "sns.violinplot(\"Class\", \"Amount\", data=data,ax=axes[1])\n",
    "axes[1].set_ylim(0,1000)"
   ]
  },
  {
   "cell_type": "markdown",
   "metadata": {},
   "source": [
    "According to the descriptive statistics and the boxplots, there are several things I can observe. \n",
    "First, although the normal transactions have extreme transaction amounts, the standard deviation is slightly smaller than the standard deviation of fraudulant transactions. Both of the standard deviations is really large;For class 0, mean of 88 with sd of 250 and for class 1, mean of 122 with sd of 256. Thus, in both of the classes, the data is spread really widely. \n",
    "\n",
    "According to the box plot and the violin plot, I can see that in class 1, first 50% of values fall in the very small range of values(0 to 9). Then, values between 50th and 75th percentile have relatively wide range. This imbalance might indicate that fraudulant transaction amount tend to cluster in a range from 0 to 9. Although this distirbution might be changed if i get more data, the situation where 50% of values fall in such a small range of value is something peculiar. In normal transactions, the distribution is less skewed. The first 50% of values fall in a range from 0 to 22. Furthermore, the range between 50th and 75th percentile is smaller.  "
   ]
  },
  {
   "cell_type": "markdown",
   "metadata": {},
   "source": [
    "I can run a hypothesis test to see if the transaction amount of class 0 is statistically different from amount of class 1. Let's test it. "
   ]
  },
  {
   "cell_type": "code",
   "execution_count": 44,
   "metadata": {},
   "outputs": [
    {
     "data": {
      "text/plain": [
       "MannwhitneyuResult(statistic=61833399.0, pvalue=4.289236155420109e-06)"
      ]
     },
     "execution_count": 44,
     "metadata": {},
     "output_type": "execute_result"
    }
   ],
   "source": [
    "#use mannwhitney due to non-normaliry \n",
    "stats.mannwhitneyu(frauds_amount,normal_amount)"
   ]
  },
  {
   "cell_type": "markdown",
   "metadata": {},
   "source": [
    "p value is less tha 0.05. The difference is statistically significant. "
   ]
  },
  {
   "cell_type": "markdown",
   "metadata": {},
   "source": [
    "### outliers and class"
   ]
  },
  {
   "cell_type": "markdown",
   "metadata": {},
   "source": [
    "Seein Amount variable, it is clear that there are many outliers. I would like to see if those outliers are associated with frauds. Or Are there other relationships? As we have seen, it is likely that the fraudulent transaction amount gather in a very small range of values, but normal transaction amounts can also take values in the range. Moreover, most of values in the range will be normal transaction amount since the number of frauds is really small. "
   ]
  },
  {
   "cell_type": "code",
   "execution_count": 45,
   "metadata": {},
   "outputs": [
    {
     "data": {
      "text/plain": [
       "count    284807.000000\n",
       "mean         88.349619\n",
       "std         250.120109\n",
       "min           0.000000\n",
       "25%           5.600000\n",
       "50%          22.000000\n",
       "75%          77.165000\n",
       "max       25691.160000\n",
       "Name: Amount, dtype: float64"
      ]
     },
     "execution_count": 45,
     "metadata": {},
     "output_type": "execute_result"
    }
   ],
   "source": [
    "data['Amount'].describe()"
   ]
  },
  {
   "cell_type": "code",
   "execution_count": 46,
   "metadata": {},
   "outputs": [
    {
     "data": {
      "text/plain": [
       "0    0.244964\n",
       "1   -0.342475\n",
       "2    1.160686\n",
       "3    0.140534\n",
       "4   -0.073403\n",
       "dtype: float64"
      ]
     },
     "execution_count": 46,
     "metadata": {},
     "output_type": "execute_result"
    }
   ],
   "source": [
    "## see outliers in Amount variable. \n",
    "amount = data['Amount']\n",
    "## standardize \n",
    "stand_amount = pd.Series(stats.zscore(amount))\n",
    "stand_amount.head()"
   ]
  },
  {
   "cell_type": "markdown",
   "metadata": {},
   "source": [
    "Let's see observations with more than 3 sds. "
   ]
  },
  {
   "cell_type": "code",
   "execution_count": 47,
   "metadata": {},
   "outputs": [
    {
     "name": "stdout",
     "output_type": "stream",
     "text": [
      "The proportion of outliers in Amount variable\n",
      "1.431144599676272%\n"
     ]
    }
   ],
   "source": [
    "outliers = stand_amount[(stand_amount>=3) | (stand_amount<=-3)]\n",
    "print(\"The proportion of outliers in Amount variable\")\n",
    "print(\"{}%\".format((len(outliers)/len(data))*100))"
   ]
  },
  {
   "cell_type": "code",
   "execution_count": 48,
   "metadata": {},
   "outputs": [
    {
     "name": "stdout",
     "output_type": "stream",
     "text": [
      "the proportion of class 0 is 0.9973012757605496\n",
      "the proportion of class 1 is 0.0026987242394504417\n"
     ]
    }
   ],
   "source": [
    "#see proportions of classes in the outliers.\n",
    "outliers_data = data.loc[outliers.index,:]\n",
    "print(\"the proportion of class 0 is {}\".format((1-outliers_data['Class'].mean())))\n",
    "print(\"the proportion of class 1 is {}\".format(outliers_data['Class'].mean()))"
   ]
  },
  {
   "cell_type": "code",
   "execution_count": 49,
   "metadata": {},
   "outputs": [
    {
     "data": {
      "text/plain": [
       "11.0"
      ]
     },
     "execution_count": 49,
     "metadata": {},
     "output_type": "execute_result"
    }
   ],
   "source": [
    "#number of frauds associated with extereme trasaction amount\n",
    "len(outliers_data)*outliers_data['Class'].mean()"
   ]
  },
  {
   "cell_type": "markdown",
   "metadata": {},
   "source": [
    "Almost all of observations including extreme transaction amount is normal transaction. One thing to note is that since the standard deviation is very big, which is around 250, and the mean is around 90, the amount considered as outliers are all very high transaction amount. No very low transaction amount. "
   ]
  },
  {
   "cell_type": "markdown",
   "metadata": {},
   "source": [
    "It does not seem like that there is a relationship between extreme amount and the positive class. Thus, Let's drop them from the data set. "
   ]
  },
  {
   "cell_type": "code",
   "execution_count": 50,
   "metadata": {},
   "outputs": [
    {
     "data": {
      "text/plain": [
       "51         5.255886\n",
       "89         4.212665\n",
       "140        3.323411\n",
       "150        3.395736\n",
       "164       14.951604\n",
       "            ...    \n",
       "284249    40.425011\n",
       "284290     3.233054\n",
       "284383     4.100639\n",
       "284497     5.582569\n",
       "284528     3.245048\n",
       "Length: 4076, dtype: float64"
      ]
     },
     "execution_count": 50,
     "metadata": {},
     "output_type": "execute_result"
    }
   ],
   "source": [
    "outliers"
   ]
  },
  {
   "cell_type": "code",
   "execution_count": 51,
   "metadata": {},
   "outputs": [],
   "source": [
    "data =data.drop(outliers.index)\n",
    "data = data.reset_index(drop=True)"
   ]
  },
  {
   "cell_type": "markdown",
   "metadata": {},
   "source": [
    "## Colinearlity\n",
    "I will see if there is a linear relatinship between predictor variables using Pearson correlation coefficient and other matrices. "
   ]
  },
  {
   "cell_type": "code",
   "execution_count": 52,
   "metadata": {},
   "outputs": [
    {
     "data": {
      "text/plain": [
       "<AxesSubplot:>"
      ]
     },
     "execution_count": 52,
     "metadata": {},
     "output_type": "execute_result"
    },
    {
     "data": {
      "image/png": "[encoded data removed]",
      "text/plain": [
       "<Figure size 720x576 with 2 Axes>"
      ]
     },
     "metadata": {
      "needs_background": "light"
     },
     "output_type": "display_data"
    }
   ],
   "source": [
    "fig = plt.figure(figsize=(10,8))\n",
    "sns.heatmap(data.corr())"
   ]
  },
  {
   "cell_type": "markdown",
   "metadata": {},
   "source": [
    "I do not think that there are very strongly correlated variables. Although you can that observe some variables related to time have white colors, they are related to other time variables. Thus, their color is not meaningful."
   ]
  },
  {
   "cell_type": "markdown",
   "metadata": {},
   "source": [
    "### TIme and Amount \n",
    "Investigate the relationship between variables whose information is clear to us. Specifically, I will see the typical amount of transaction based on time. "
   ]
  },
  {
   "cell_type": "code",
   "execution_count": 53,
   "metadata": {},
   "outputs": [
    {
     "data": {
      "text/plain": [
       "Text(0.5, 1.0, 'Typical Amount of Transaction per hour using Median')"
      ]
     },
     "execution_count": 53,
     "metadata": {},
     "output_type": "execute_result"
    },
    {
     "data": {
      "image/png": "[encoded data removed]",
      "text/plain": [
       "<Figure size 1080x360 with 2 Axes>"
      ]
     },
     "metadata": {
      "needs_background": "light"
     },
     "output_type": "display_data"
    }
   ],
   "source": [
    "fig, axes  = plt.subplots(1,2,figsize=(15,5))\n",
    "#using mean\n",
    "amount_hour_mean = data[['Amount','hour']].groupby(by='hour').mean()\n",
    "amount_hour_mean.plot(ax=axes[0])\n",
    "axes[0].set_xticks(range(0,24))\n",
    "axes[0].set_title(\"Typical Amount of Transaction per hour using Mean\")\n",
    "\n",
    "#using median \n",
    "\n",
    "amount_hour_med = data[['Amount','hour']].groupby(by='hour').median()\n",
    "amount_hour_med.plot(ax=axes[1])\n",
    "axes[1].set_xticks(range(0,24))\n",
    "axes[1].set_title(\"Typical Amount of Transaction per hour using Median\")"
   ]
  },
  {
   "cell_type": "markdown",
   "metadata": {},
   "source": [
    "Because of unsual values of Amount, the plot using Mean produces high values as typical amounts. Moreover, the scale of y-axis is very differen among the two plots. Thus, I can be sure that distribution of amounts in each hour is also skewed. Thus, for seeing typical amount, it is better to look at the plot using Median. "
   ]
  },
  {
   "cell_type": "markdown",
   "metadata": {},
   "source": [
    "When looking at the right plot, I can see the trend of amounts based on time. I can recognize that transaction amount increse from 6 to 11. Then, it starts to decrease. There is a small increase from 0 to 1. "
   ]
  },
  {
   "cell_type": "markdown",
   "metadata": {},
   "source": [
    "Is there a relationship between the typical amount and the number of frauds? I can plot the scatter plot."
   ]
  },
  {
   "cell_type": "code",
   "execution_count": 54,
   "metadata": {},
   "outputs": [
    {
     "data": {
      "text/plain": [
       "<matplotlib.collections.PathCollection at 0x207e33deac0>"
      ]
     },
     "execution_count": 54,
     "metadata": {},
     "output_type": "execute_result"
    },
    {
     "data": {
      "image/png": "[encoded data removed]",
      "text/plain": [
       "<Figure size 432x288 with 1 Axes>"
      ]
     },
     "metadata": {
      "needs_background": "light"
     },
     "output_type": "display_data"
    }
   ],
   "source": [
    "plt.scatter(grouped_hour,amount_hour_med)"
   ]
  },
  {
   "cell_type": "code",
   "execution_count": 55,
   "metadata": {},
   "outputs": [
    {
     "data": {
      "text/plain": [
       "(0.18553081123362133, 0.38541519462576573)"
      ]
     },
     "execution_count": 55,
     "metadata": {},
     "output_type": "execute_result"
    }
   ],
   "source": [
    "stats.pearsonr(grouped_hour.iloc[:,0],amount_hour_med.iloc[:,0])"
   ]
  },
  {
   "cell_type": "markdown",
   "metadata": {},
   "source": [
    "According to the scatter plot and the pearson correlation coefficient, I cannot see a peculiar relatinship between them. "
   ]
  },
  {
   "cell_type": "markdown",
   "metadata": {},
   "source": [
    "## Future Engineering "
   ]
  },
  {
   "cell_type": "markdown",
   "metadata": {},
   "source": [
    "Based on findings, I will create several new features. There are three features that I am going to make.\n",
    "\n",
    "- A feature that indicates a transaction time is in morning or afternoon. This is because, it is likely that the number of frauds on average is bigger in the afternoon. \n",
    "\n",
    "- A feature that indicates that the trasnaction amount ranges from 0 to 9. This is because, many fradulent transactions fall into this range. \n",
    "\n",
    "- A feature that indicates that a transaction time is at 2AM and 11AM. These are time when frauds likely happen. \n",
    "\n",
    "I think that it is difficult to make a lag feature based on my analysis. My analysis indicated that the number of frauds happend 9 hours ago has correlation with the number of frauds happening. Since each instance is recorded based on seconds, I have to aggregate transactions happned 9 hours before. This will not be likely to add useful information to predict classes because most of instances are not fradulent. So, the aggregated results will be similart to normal transactions. Moreover, it is skeptical that the correlation is helpful to predict classes as well. "
   ]
  },
  {
   "cell_type": "code",
   "execution_count": 56,
   "metadata": {},
   "outputs": [],
   "source": [
    "#first feature \n",
    "#encode morning time as 0 otherwise 1 \n",
    "data['Morning_Noon'] = data['hour'].apply(lambda x: 0 if x in range(0,12) else 1)"
   ]
  },
  {
   "cell_type": "code",
   "execution_count": 57,
   "metadata": {},
   "outputs": [],
   "source": [
    "data['fraud_typi_amt'] = data['Amount'].apply(lambda x: 1 if (0<x) and (x<=9) else 0)"
   ]
  },
  {
   "cell_type": "code",
   "execution_count": 58,
   "metadata": {},
   "outputs": [],
   "source": [
    "data[\"2_11\"] = data['hour'].apply(lambda x: 1 if x in [2., 11.] else 0)"
   ]
  },
  {
   "cell_type": "markdown",
   "metadata": {},
   "source": [
    "### Deal with an imbalanced dataset "
   ]
  },
  {
   "cell_type": "markdown",
   "metadata": {},
   "source": [
    "We know that most of instances in the dataset is not fraudulent. This could cause reduction in performance. There are three options that I can take: downsampling, oversampling, and data generation. In this case, I would like to try oversampling. This is because, downsampling will lead to the loss of a huge portion of dataset and the number of positive case is very low in this case. In terms of data genration, I think that this is an option that I can take. However, downsampling is a simpler method. So, I like to use oversampling first."
   ]
  },
  {
   "cell_type": "markdown",
   "metadata": {},
   "source": [
    "I can achieve an effect similar to oversampling by weighing the data. I will put some weight on instances with postive classes in training. "
   ]
  },
  {
   "cell_type": "markdown",
   "metadata": {},
   "source": [
    "### Feature Selection "
   ]
  },
  {
   "cell_type": "markdown",
   "metadata": {},
   "source": [
    "In this section, I will find candidate variables for modeling. So far, I have found statistical significance for some V variables. In addition to it, I will use logistic and lasso regression to find candidates for the variables. "
   ]
  },
  {
   "cell_type": "markdown",
   "metadata": {},
   "source": [
    "data.info()"
   ]
  },
  {
   "cell_type": "markdown",
   "metadata": {},
   "source": [
    "First, I will drop ```Time``` variable. Moreover, I will also get rid of some of variables related to Time because they convey same information. For instance, ```minutes``` variable should contain almost same information as ```hour_48```. "
   ]
  },
  {
   "cell_type": "code",
   "execution_count": 59,
   "metadata": {},
   "outputs": [],
   "source": [
    "data = data.drop(['Time','hour_48','minutes'],axis=1)"
   ]
  },
  {
   "cell_type": "code",
   "execution_count": 60,
   "metadata": {
    "scrolled": false
   },
   "outputs": [
    {
     "data": {
      "text/html": [
       "<div>\n",
       "<style scoped>\n",
       "    .dataframe tbody tr th:only-of-type {\n",
       "        vertical-align: middle;\n",
       "    }\n",
       "\n",
       "    .dataframe tbody tr th {\n",
       "        vertical-align: top;\n",
       "    }\n",
       "\n",
       "    .dataframe thead th {\n",
       "        text-align: right;\n",
       "    }\n",
       "</style>\n",
       "<table border=\"1\" class=\"dataframe\">\n",
       "  <thead>\n",
       "    <tr style=\"text-align: right;\">\n",
       "      <th></th>\n",
       "      <th>V1</th>\n",
       "      <th>V2</th>\n",
       "      <th>V3</th>\n",
       "      <th>V4</th>\n",
       "      <th>V5</th>\n",
       "      <th>V6</th>\n",
       "      <th>V7</th>\n",
       "      <th>V8</th>\n",
       "      <th>V9</th>\n",
       "      <th>V10</th>\n",
       "      <th>...</th>\n",
       "      <th>V25</th>\n",
       "      <th>V26</th>\n",
       "      <th>V27</th>\n",
       "      <th>V28</th>\n",
       "      <th>Amount</th>\n",
       "      <th>Class</th>\n",
       "      <th>hour</th>\n",
       "      <th>Morning_Noon</th>\n",
       "      <th>fraud_typi_amt</th>\n",
       "      <th>2_11</th>\n",
       "    </tr>\n",
       "  </thead>\n",
       "  <tbody>\n",
       "    <tr>\n",
       "      <th>0</th>\n",
       "      <td>-1.359807</td>\n",
       "      <td>-0.072781</td>\n",
       "      <td>2.536347</td>\n",
       "      <td>1.378155</td>\n",
       "      <td>-0.338321</td>\n",
       "      <td>0.462388</td>\n",
       "      <td>0.239599</td>\n",
       "      <td>0.098698</td>\n",
       "      <td>0.363787</td>\n",
       "      <td>0.090794</td>\n",
       "      <td>...</td>\n",
       "      <td>0.128539</td>\n",
       "      <td>-0.189115</td>\n",
       "      <td>0.133558</td>\n",
       "      <td>-0.021053</td>\n",
       "      <td>149.62</td>\n",
       "      <td>0</td>\n",
       "      <td>0.0</td>\n",
       "      <td>0</td>\n",
       "      <td>0</td>\n",
       "      <td>0</td>\n",
       "    </tr>\n",
       "    <tr>\n",
       "      <th>1</th>\n",
       "      <td>1.191857</td>\n",
       "      <td>0.266151</td>\n",
       "      <td>0.166480</td>\n",
       "      <td>0.448154</td>\n",
       "      <td>0.060018</td>\n",
       "      <td>-0.082361</td>\n",
       "      <td>-0.078803</td>\n",
       "      <td>0.085102</td>\n",
       "      <td>-0.255425</td>\n",
       "      <td>-0.166974</td>\n",
       "      <td>...</td>\n",
       "      <td>0.167170</td>\n",
       "      <td>0.125895</td>\n",
       "      <td>-0.008983</td>\n",
       "      <td>0.014724</td>\n",
       "      <td>2.69</td>\n",
       "      <td>0</td>\n",
       "      <td>0.0</td>\n",
       "      <td>0</td>\n",
       "      <td>1</td>\n",
       "      <td>0</td>\n",
       "    </tr>\n",
       "    <tr>\n",
       "      <th>2</th>\n",
       "      <td>-1.358354</td>\n",
       "      <td>-1.340163</td>\n",
       "      <td>1.773209</td>\n",
       "      <td>0.379780</td>\n",
       "      <td>-0.503198</td>\n",
       "      <td>1.800499</td>\n",
       "      <td>0.791461</td>\n",
       "      <td>0.247676</td>\n",
       "      <td>-1.514654</td>\n",
       "      <td>0.207643</td>\n",
       "      <td>...</td>\n",
       "      <td>-0.327642</td>\n",
       "      <td>-0.139097</td>\n",
       "      <td>-0.055353</td>\n",
       "      <td>-0.059752</td>\n",
       "      <td>378.66</td>\n",
       "      <td>0</td>\n",
       "      <td>0.0</td>\n",
       "      <td>0</td>\n",
       "      <td>0</td>\n",
       "      <td>0</td>\n",
       "    </tr>\n",
       "    <tr>\n",
       "      <th>3</th>\n",
       "      <td>-0.966272</td>\n",
       "      <td>-0.185226</td>\n",
       "      <td>1.792993</td>\n",
       "      <td>-0.863291</td>\n",
       "      <td>-0.010309</td>\n",
       "      <td>1.247203</td>\n",
       "      <td>0.237609</td>\n",
       "      <td>0.377436</td>\n",
       "      <td>-1.387024</td>\n",
       "      <td>-0.054952</td>\n",
       "      <td>...</td>\n",
       "      <td>0.647376</td>\n",
       "      <td>-0.221929</td>\n",
       "      <td>0.062723</td>\n",
       "      <td>0.061458</td>\n",
       "      <td>123.50</td>\n",
       "      <td>0</td>\n",
       "      <td>0.0</td>\n",
       "      <td>0</td>\n",
       "      <td>0</td>\n",
       "      <td>0</td>\n",
       "    </tr>\n",
       "    <tr>\n",
       "      <th>4</th>\n",
       "      <td>-1.158233</td>\n",
       "      <td>0.877737</td>\n",
       "      <td>1.548718</td>\n",
       "      <td>0.403034</td>\n",
       "      <td>-0.407193</td>\n",
       "      <td>0.095921</td>\n",
       "      <td>0.592941</td>\n",
       "      <td>-0.270533</td>\n",
       "      <td>0.817739</td>\n",
       "      <td>0.753074</td>\n",
       "      <td>...</td>\n",
       "      <td>-0.206010</td>\n",
       "      <td>0.502292</td>\n",
       "      <td>0.219422</td>\n",
       "      <td>0.215153</td>\n",
       "      <td>69.99</td>\n",
       "      <td>0</td>\n",
       "      <td>0.0</td>\n",
       "      <td>0</td>\n",
       "      <td>0</td>\n",
       "      <td>0</td>\n",
       "    </tr>\n",
       "    <tr>\n",
       "      <th>...</th>\n",
       "      <td>...</td>\n",
       "      <td>...</td>\n",
       "      <td>...</td>\n",
       "      <td>...</td>\n",
       "      <td>...</td>\n",
       "      <td>...</td>\n",
       "      <td>...</td>\n",
       "      <td>...</td>\n",
       "      <td>...</td>\n",
       "      <td>...</td>\n",
       "      <td>...</td>\n",
       "      <td>...</td>\n",
       "      <td>...</td>\n",
       "      <td>...</td>\n",
       "      <td>...</td>\n",
       "      <td>...</td>\n",
       "      <td>...</td>\n",
       "      <td>...</td>\n",
       "      <td>...</td>\n",
       "      <td>...</td>\n",
       "      <td>...</td>\n",
       "    </tr>\n",
       "    <tr>\n",
       "      <th>280726</th>\n",
       "      <td>-11.881118</td>\n",
       "      <td>10.071785</td>\n",
       "      <td>-9.834783</td>\n",
       "      <td>-2.066656</td>\n",
       "      <td>-5.364473</td>\n",
       "      <td>-2.606837</td>\n",
       "      <td>-4.918215</td>\n",
       "      <td>7.305334</td>\n",
       "      <td>1.914428</td>\n",
       "      <td>4.356170</td>\n",
       "      <td>...</td>\n",
       "      <td>1.436807</td>\n",
       "      <td>0.250034</td>\n",
       "      <td>0.943651</td>\n",
       "      <td>0.823731</td>\n",
       "      <td>0.77</td>\n",
       "      <td>0</td>\n",
       "      <td>23.0</td>\n",
       "      <td>1</td>\n",
       "      <td>1</td>\n",
       "      <td>0</td>\n",
       "    </tr>\n",
       "    <tr>\n",
       "      <th>280727</th>\n",
       "      <td>-0.732789</td>\n",
       "      <td>-0.055080</td>\n",
       "      <td>2.035030</td>\n",
       "      <td>-0.738589</td>\n",
       "      <td>0.868229</td>\n",
       "      <td>1.058415</td>\n",
       "      <td>0.024330</td>\n",
       "      <td>0.294869</td>\n",
       "      <td>0.584800</td>\n",
       "      <td>-0.975926</td>\n",
       "      <td>...</td>\n",
       "      <td>-0.606624</td>\n",
       "      <td>-0.395255</td>\n",
       "      <td>0.068472</td>\n",
       "      <td>-0.053527</td>\n",
       "      <td>24.79</td>\n",
       "      <td>0</td>\n",
       "      <td>23.0</td>\n",
       "      <td>1</td>\n",
       "      <td>0</td>\n",
       "      <td>0</td>\n",
       "    </tr>\n",
       "    <tr>\n",
       "      <th>280728</th>\n",
       "      <td>1.919565</td>\n",
       "      <td>-0.301254</td>\n",
       "      <td>-3.249640</td>\n",
       "      <td>-0.557828</td>\n",
       "      <td>2.630515</td>\n",
       "      <td>3.031260</td>\n",
       "      <td>-0.296827</td>\n",
       "      <td>0.708417</td>\n",
       "      <td>0.432454</td>\n",
       "      <td>-0.484782</td>\n",
       "      <td>...</td>\n",
       "      <td>0.265745</td>\n",
       "      <td>-0.087371</td>\n",
       "      <td>0.004455</td>\n",
       "      <td>-0.026561</td>\n",
       "      <td>67.88</td>\n",
       "      <td>0</td>\n",
       "      <td>23.0</td>\n",
       "      <td>1</td>\n",
       "      <td>0</td>\n",
       "      <td>0</td>\n",
       "    </tr>\n",
       "    <tr>\n",
       "      <th>280729</th>\n",
       "      <td>-0.240440</td>\n",
       "      <td>0.530483</td>\n",
       "      <td>0.702510</td>\n",
       "      <td>0.689799</td>\n",
       "      <td>-0.377961</td>\n",
       "      <td>0.623708</td>\n",
       "      <td>-0.686180</td>\n",
       "      <td>0.679145</td>\n",
       "      <td>0.392087</td>\n",
       "      <td>-0.399126</td>\n",
       "      <td>...</td>\n",
       "      <td>-0.569159</td>\n",
       "      <td>0.546668</td>\n",
       "      <td>0.108821</td>\n",
       "      <td>0.104533</td>\n",
       "      <td>10.00</td>\n",
       "      <td>0</td>\n",
       "      <td>23.0</td>\n",
       "      <td>1</td>\n",
       "      <td>0</td>\n",
       "      <td>0</td>\n",
       "    </tr>\n",
       "    <tr>\n",
       "      <th>280730</th>\n",
       "      <td>-0.533413</td>\n",
       "      <td>-0.189733</td>\n",
       "      <td>0.703337</td>\n",
       "      <td>-0.506271</td>\n",
       "      <td>-0.012546</td>\n",
       "      <td>-0.649617</td>\n",
       "      <td>1.577006</td>\n",
       "      <td>-0.414650</td>\n",
       "      <td>0.486180</td>\n",
       "      <td>-0.915427</td>\n",
       "      <td>...</td>\n",
       "      <td>-0.473649</td>\n",
       "      <td>-0.818267</td>\n",
       "      <td>-0.002415</td>\n",
       "      <td>0.013649</td>\n",
       "      <td>217.00</td>\n",
       "      <td>0</td>\n",
       "      <td>23.0</td>\n",
       "      <td>1</td>\n",
       "      <td>0</td>\n",
       "      <td>0</td>\n",
       "    </tr>\n",
       "  </tbody>\n",
       "</table>\n",
       "<p>280731 rows × 34 columns</p>\n",
       "</div>"
      ],
      "text/plain": [
       "               V1         V2        V3        V4        V5        V6  \\\n",
       "0       -1.359807  -0.072781  2.536347  1.378155 -0.338321  0.462388   \n",
       "1        1.191857   0.266151  0.166480  0.448154  0.060018 -0.082361   \n",
       "2       -1.358354  -1.340163  1.773209  0.379780 -0.503198  1.800499   \n",
       "3       -0.966272  -0.185226  1.792993 -0.863291 -0.010309  1.247203   \n",
       "4       -1.158233   0.877737  1.548718  0.403034 -0.407193  0.095921   \n",
       "...           ...        ...       ...       ...       ...       ...   \n",
       "280726 -11.881118  10.071785 -9.834783 -2.066656 -5.364473 -2.606837   \n",
       "280727  -0.732789  -0.055080  2.035030 -0.738589  0.868229  1.058415   \n",
       "280728   1.919565  -0.301254 -3.249640 -0.557828  2.630515  3.031260   \n",
       "280729  -0.240440   0.530483  0.702510  0.689799 -0.377961  0.623708   \n",
       "280730  -0.533413  -0.189733  0.703337 -0.506271 -0.012546 -0.649617   \n",
       "\n",
       "              V7        V8        V9       V10  ...       V25       V26  \\\n",
       "0       0.239599  0.098698  0.363787  0.090794  ...  0.128539 -0.189115   \n",
       "1      -0.078803  0.085102 -0.255425 -0.166974  ...  0.167170  0.125895   \n",
       "2       0.791461  0.247676 -1.514654  0.207643  ... -0.327642 -0.139097   \n",
       "3       0.237609  0.377436 -1.387024 -0.054952  ...  0.647376 -0.221929   \n",
       "4       0.592941 -0.270533  0.817739  0.753074  ... -0.206010  0.502292   \n",
       "...          ...       ...       ...       ...  ...       ...       ...   \n",
       "280726 -4.918215  7.305334  1.914428  4.356170  ...  1.436807  0.250034   \n",
       "280727  0.024330  0.294869  0.584800 -0.975926  ... -0.606624 -0.395255   \n",
       "280728 -0.296827  0.708417  0.432454 -0.484782  ...  0.265745 -0.087371   \n",
       "280729 -0.686180  0.679145  0.392087 -0.399126  ... -0.569159  0.546668   \n",
       "280730  1.577006 -0.414650  0.486180 -0.915427  ... -0.473649 -0.818267   \n",
       "\n",
       "             V27       V28  Amount  Class  hour  Morning_Noon  fraud_typi_amt  \\\n",
       "0       0.133558 -0.021053  149.62      0   0.0             0               0   \n",
       "1      -0.008983  0.014724    2.69      0   0.0             0               1   \n",
       "2      -0.055353 -0.059752  378.66      0   0.0             0               0   \n",
       "3       0.062723  0.061458  123.50      0   0.0             0               0   \n",
       "4       0.219422  0.215153   69.99      0   0.0             0               0   \n",
       "...          ...       ...     ...    ...   ...           ...             ...   \n",
       "280726  0.943651  0.823731    0.77      0  23.0             1               1   \n",
       "280727  0.068472 -0.053527   24.79      0  23.0             1               0   \n",
       "280728  0.004455 -0.026561   67.88      0  23.0             1               0   \n",
       "280729  0.108821  0.104533   10.00      0  23.0             1               0   \n",
       "280730 -0.002415  0.013649  217.00      0  23.0             1               0   \n",
       "\n",
       "        2_11  \n",
       "0          0  \n",
       "1          0  \n",
       "2          0  \n",
       "3          0  \n",
       "4          0  \n",
       "...      ...  \n",
       "280726     0  \n",
       "280727     0  \n",
       "280728     0  \n",
       "280729     0  \n",
       "280730     0  \n",
       "\n",
       "[280731 rows x 34 columns]"
      ]
     },
     "execution_count": 60,
     "metadata": {},
     "output_type": "execute_result"
    }
   ],
   "source": [
    "data"
   ]
  },
  {
   "cell_type": "markdown",
   "metadata": {},
   "source": [
    "I will split the dataset into train and test dataset before future selection. This is because, if I run logistic and lasso on the entire dataset for freature selection, there is a possibility that futures selected cause overfitiing of a model. "
   ]
  },
  {
   "cell_type": "code",
   "execution_count": 61,
   "metadata": {},
   "outputs": [],
   "source": [
    "features = data.drop('Class',axis=1)\n",
    "target = data['Class']"
   ]
  },
  {
   "cell_type": "code",
   "execution_count": 62,
   "metadata": {},
   "outputs": [],
   "source": [
    "#use stratified splitting approach so that proportion of classes is preserved in train and test dataset\n",
    "from sklearn.model_selection import StratifiedShuffleSplit\n",
    "\n",
    "strat_shuffle = StratifiedShuffleSplit(n_splits=1,test_size=0.2,random_state=42)\n",
    "for train_index, test_index in strat_shuffle.split(features,target):\n",
    "    train_x = features.loc[train_index,:]\n",
    "    train_y = target[train_index]\n",
    "    test_x = features.loc[test_index,:]\n",
    "    test_y = target[test_index]"
   ]
  },
  {
   "cell_type": "code",
   "execution_count": 63,
   "metadata": {},
   "outputs": [
    {
     "name": "stdout",
     "output_type": "stream",
     "text": [
      "training dataset\n",
      "Proportion of Class 0 0.998285719374488\n",
      "Proportion of Class 1 0.0017142806255120578\n"
     ]
    }
   ],
   "source": [
    "#see whether the dataset is properly stratified \n",
    "print(\"training dataset\")\n",
    "print(\"Proportion of Class 0 {}\".format(1-train_y.mean()))\n",
    "print(\"Proportion of Class 1 {}\".format(train_y.mean()))"
   ]
  },
  {
   "cell_type": "code",
   "execution_count": 64,
   "metadata": {},
   "outputs": [
    {
     "name": "stdout",
     "output_type": "stream",
     "text": [
      "test dataset\n",
      "Proportion of Class 0 0.9982902025041409\n",
      "Proportion of Class 1 0.0017097974958590841\n"
     ]
    }
   ],
   "source": [
    "print(\"test dataset\")\n",
    "print(\"Proportion of Class 0 {}\".format(1-test_y.mean()))\n",
    "print(\"Proportion of Class 1 {}\".format(test_y.mean()))"
   ]
  },
  {
   "cell_type": "markdown",
   "metadata": {},
   "source": [
    "Good. Let's implement logistic and lasso regression for future selection. I will experiment those using R. Please look at another notebook, where I perform feature selection using them. "
   ]
  },
  {
   "cell_type": "code",
   "execution_count": 65,
   "metadata": {
    "scrolled": true
   },
   "outputs": [],
   "source": [
    "train = pd.concat([train_x,train_y],axis=1)"
   ]
  },
  {
   "cell_type": "code",
   "execution_count": 66,
   "metadata": {},
   "outputs": [],
   "source": [
    "#export to csv files \n",
    "train.to_csv(\"credit_card_train\",index=False)"
   ]
  },
  {
   "cell_type": "markdown",
   "metadata": {},
   "source": [
    "### Modeling "
   ]
  },
  {
   "cell_type": "markdown",
   "metadata": {},
   "source": [
    "Using candidate predictors selected by hypothesis test and lasso logistic regression, I will create some models. Matrics I am going to use are Specificity and Recall. It is better to classify normal transactions as fradulent than classifying frauds as normal. Thus, my aim is getting high recall even with low specificity. "
   ]
  },
  {
   "cell_type": "markdown",
   "metadata": {},
   "source": [
    "Criteria of the best model for this project.\n",
    "- The most important: High recall(99%) with not huge reduction in specificity. \n",
    "- The second most important: Complexity.(simpler models are better) "
   ]
  },
  {
   "cell_type": "markdown",
   "metadata": {},
   "source": [
    "First, I will use logistic regression. For now, I will not tweak any hyper parameters except weight parameter. In future selection, I calculated weight by dividing 1 by a poportion of a class. I will use same weight. Since sklearn logistic regression set penalty term to l2 by default, I set it to null to experiment without it. "
   ]
  },
  {
   "cell_type": "code",
   "execution_count": 67,
   "metadata": {},
   "outputs": [],
   "source": [
    "from sklearn.linear_model import LogisticRegression\n",
    "from sklearn.metrics import classification_report\n",
    "from sklearn.model_selection import cross_validate\n",
    "from sklearn.metrics import make_scorer\n",
    "import numpy as np"
   ]
  },
  {
   "cell_type": "code",
   "execution_count": 68,
   "metadata": {},
   "outputs": [
    {
     "data": {
      "text/plain": [
       "array([  1.00171722, 583.33506494])"
      ]
     },
     "execution_count": 68,
     "metadata": {},
     "output_type": "execute_result"
    }
   ],
   "source": [
    "class_weight = len(train)/np.bincount(train['Class'])\n",
    "class_weight"
   ]
  },
  {
   "cell_type": "code",
   "execution_count": 69,
   "metadata": {},
   "outputs": [],
   "source": [
    "predictors_train = train.loc[:,:\"2_11\"]\n",
    "target_train = train['Class']"
   ]
  },
  {
   "cell_type": "code",
   "execution_count": 70,
   "metadata": {},
   "outputs": [],
   "source": [
    "#create a function that calculates specifity for model evaluation in cross validation. \n",
    "def specificity(y_true, y_pred):\n",
    "    num_true_neg = sum((y_true+y_pred)==0)\n",
    "    num_neg = sum(y_true==0)\n",
    "    return num_true_neg / num_neg\n",
    "score_speci = make_scorer(specificity)"
   ]
  },
  {
   "cell_type": "code",
   "execution_count": 71,
   "metadata": {},
   "outputs": [],
   "source": [
    "dic_scores = {\"recall\":make_scorer(sklearn.metrics.recall_score),\"specificity\":score_speci,\"auc\":make_scorer(sklearn.metrics.roc_auc_score)}"
   ]
  },
  {
   "cell_type": "code",
   "execution_count": 72,
   "metadata": {},
   "outputs": [],
   "source": [
    "#run cross validation to see how well the basic model performs\n",
    "lasso_candidate = predictors_train[['V4', 'V11', 'V12', 'V14', 'Amount','fraud_typi_amt' ]]\n",
    "lr = LogisticRegression(penalty='none',class_weight={1:class_weight[1],0:class_weight[0]})\n",
    "cv = cross_validate(lr,lasso_candidate,target_train,scoring=dic_scores,cv=5)"
   ]
  },
  {
   "cell_type": "code",
   "execution_count": 73,
   "metadata": {
    "scrolled": true
   },
   "outputs": [
    {
     "data": {
      "text/html": [
       "<div>\n",
       "<style scoped>\n",
       "    .dataframe tbody tr th:only-of-type {\n",
       "        vertical-align: middle;\n",
       "    }\n",
       "\n",
       "    .dataframe tbody tr th {\n",
       "        vertical-align: top;\n",
       "    }\n",
       "\n",
       "    .dataframe thead th {\n",
       "        text-align: right;\n",
       "    }\n",
       "</style>\n",
       "<table border=\"1\" class=\"dataframe\">\n",
       "  <thead>\n",
       "    <tr style=\"text-align: right;\">\n",
       "      <th></th>\n",
       "      <th>fit_time</th>\n",
       "      <th>score_time</th>\n",
       "      <th>test_recall</th>\n",
       "      <th>test_specificity</th>\n",
       "      <th>test_auc</th>\n",
       "    </tr>\n",
       "  </thead>\n",
       "  <tbody>\n",
       "    <tr>\n",
       "      <th>0</th>\n",
       "      <td>0.705113</td>\n",
       "      <td>0.023936</td>\n",
       "      <td>0.974026</td>\n",
       "      <td>0.968265</td>\n",
       "      <td>0.971145</td>\n",
       "    </tr>\n",
       "    <tr>\n",
       "      <th>1</th>\n",
       "      <td>1.231706</td>\n",
       "      <td>0.025931</td>\n",
       "      <td>0.909091</td>\n",
       "      <td>0.971030</td>\n",
       "      <td>0.940061</td>\n",
       "    </tr>\n",
       "    <tr>\n",
       "      <th>2</th>\n",
       "      <td>1.198795</td>\n",
       "      <td>0.023935</td>\n",
       "      <td>0.857143</td>\n",
       "      <td>0.975691</td>\n",
       "      <td>0.916417</td>\n",
       "    </tr>\n",
       "    <tr>\n",
       "      <th>3</th>\n",
       "      <td>1.052186</td>\n",
       "      <td>0.025930</td>\n",
       "      <td>0.896104</td>\n",
       "      <td>0.967440</td>\n",
       "      <td>0.931772</td>\n",
       "    </tr>\n",
       "    <tr>\n",
       "      <th>4</th>\n",
       "      <td>1.278580</td>\n",
       "      <td>0.025930</td>\n",
       "      <td>0.909091</td>\n",
       "      <td>0.970517</td>\n",
       "      <td>0.939804</td>\n",
       "    </tr>\n",
       "  </tbody>\n",
       "</table>\n",
       "</div>"
      ],
      "text/plain": [
       "   fit_time  score_time  test_recall  test_specificity  test_auc\n",
       "0  0.705113    0.023936     0.974026          0.968265  0.971145\n",
       "1  1.231706    0.025931     0.909091          0.971030  0.940061\n",
       "2  1.198795    0.023935     0.857143          0.975691  0.916417\n",
       "3  1.052186    0.025930     0.896104          0.967440  0.931772\n",
       "4  1.278580    0.025930     0.909091          0.970517  0.939804"
      ]
     },
     "execution_count": 73,
     "metadata": {},
     "output_type": "execute_result"
    }
   ],
   "source": [
    "plain_log = pd.DataFrame(cv)\n",
    "plain_log"
   ]
  },
  {
   "cell_type": "code",
   "execution_count": 74,
   "metadata": {},
   "outputs": [
    {
     "name": "stdout",
     "output_type": "stream",
     "text": [
      "Mean recall is 0.909090909090909\n",
      "Mean specificity 0.9705886285313902\n"
     ]
    }
   ],
   "source": [
    "print('Mean recall is ' + str(plain_log['test_recall'].mean()))\n",
    "print('Mean specificity ' + str(plain_log['test_specificity'].mean()))"
   ]
  },
  {
   "cell_type": "markdown",
   "metadata": {},
   "source": [
    "Using a plain logistic regression with a threshhold at 50%, both of recall and specificity is more than 90%. However, specificity is much higher than recall. Morevoer, in this case, AUC is not really a good matric because it shows high value even with low recall. Thus, it is better to focus on recall and specificity only. "
   ]
  },
  {
   "cell_type": "markdown",
   "metadata": {},
   "source": [
    "I used candidates discovered by lasso here. How about including all of Vs identified in the hypothesis testing in addition to the variables found by lasso? Let's include and run a logistic regression with same setting. "
   ]
  },
  {
   "cell_type": "code",
   "execution_count": 75,
   "metadata": {},
   "outputs": [],
   "source": [
    "hypo_index = lasso_candidate.columns.union(pd.Index(['V3','V4','V7','V9','V10','V11','V12','V14','V16','V17', 'V18']))\n",
    "hypo_candidate = predictors_train[hypo_index]\n",
    "lr_hypo= LogisticRegression(penalty='none',class_weight={1:class_weight[1],0:class_weight[0]})\n",
    "cv_hypo = cross_validate(lr_hypo,hypo_candidate,target_train,scoring=dic_scores,cv=5)"
   ]
  },
  {
   "cell_type": "code",
   "execution_count": 76,
   "metadata": {},
   "outputs": [
    {
     "data": {
      "text/html": [
       "<div>\n",
       "<style scoped>\n",
       "    .dataframe tbody tr th:only-of-type {\n",
       "        vertical-align: middle;\n",
       "    }\n",
       "\n",
       "    .dataframe tbody tr th {\n",
       "        vertical-align: top;\n",
       "    }\n",
       "\n",
       "    .dataframe thead th {\n",
       "        text-align: right;\n",
       "    }\n",
       "</style>\n",
       "<table border=\"1\" class=\"dataframe\">\n",
       "  <thead>\n",
       "    <tr style=\"text-align: right;\">\n",
       "      <th></th>\n",
       "      <th>fit_time</th>\n",
       "      <th>score_time</th>\n",
       "      <th>test_recall</th>\n",
       "      <th>test_specificity</th>\n",
       "      <th>test_auc</th>\n",
       "    </tr>\n",
       "  </thead>\n",
       "  <tbody>\n",
       "    <tr>\n",
       "      <th>0</th>\n",
       "      <td>1.418205</td>\n",
       "      <td>0.024933</td>\n",
       "      <td>0.961039</td>\n",
       "      <td>0.970607</td>\n",
       "      <td>0.965823</td>\n",
       "    </tr>\n",
       "    <tr>\n",
       "      <th>1</th>\n",
       "      <td>1.353380</td>\n",
       "      <td>0.023937</td>\n",
       "      <td>0.883117</td>\n",
       "      <td>0.973974</td>\n",
       "      <td>0.928546</td>\n",
       "    </tr>\n",
       "    <tr>\n",
       "      <th>2</th>\n",
       "      <td>1.326453</td>\n",
       "      <td>0.028922</td>\n",
       "      <td>0.857143</td>\n",
       "      <td>0.977498</td>\n",
       "      <td>0.917320</td>\n",
       "    </tr>\n",
       "    <tr>\n",
       "      <th>3</th>\n",
       "      <td>1.304539</td>\n",
       "      <td>0.025903</td>\n",
       "      <td>0.896104</td>\n",
       "      <td>0.968956</td>\n",
       "      <td>0.932530</td>\n",
       "    </tr>\n",
       "    <tr>\n",
       "      <th>4</th>\n",
       "      <td>1.322961</td>\n",
       "      <td>0.026928</td>\n",
       "      <td>0.922078</td>\n",
       "      <td>0.973238</td>\n",
       "      <td>0.947658</td>\n",
       "    </tr>\n",
       "  </tbody>\n",
       "</table>\n",
       "</div>"
      ],
      "text/plain": [
       "   fit_time  score_time  test_recall  test_specificity  test_auc\n",
       "0  1.418205    0.024933     0.961039          0.970607  0.965823\n",
       "1  1.353380    0.023937     0.883117          0.973974  0.928546\n",
       "2  1.326453    0.028922     0.857143          0.977498  0.917320\n",
       "3  1.304539    0.025903     0.896104          0.968956  0.932530\n",
       "4  1.322961    0.026928     0.922078          0.973238  0.947658"
      ]
     },
     "execution_count": 76,
     "metadata": {},
     "output_type": "execute_result"
    }
   ],
   "source": [
    "hypo_log = pd.DataFrame(cv_hypo)\n",
    "hypo_log"
   ]
  },
  {
   "cell_type": "code",
   "execution_count": 77,
   "metadata": {},
   "outputs": [
    {
     "name": "stdout",
     "output_type": "stream",
     "text": [
      "Mean recall is 0.903896103896104\n",
      "Mean specificity 0.9728544747439043\n"
     ]
    }
   ],
   "source": [
    "print('Mean recall is ' + str(cv_hypo['test_recall'].mean()))\n",
    "print('Mean specificity ' + str(cv_hypo['test_specificity'].mean()))"
   ]
  },
  {
   "cell_type": "markdown",
   "metadata": {},
   "source": [
    "There is not a difference between results. Thus, I will stick with candidate variables found by lasso because the smaller number of variables makes models simpler. "
   ]
  },
  {
   "cell_type": "markdown",
   "metadata": {},
   "source": [
    "One easy way to increase recall is to lower the threshhold. "
   ]
  },
  {
   "cell_type": "code",
   "execution_count": 78,
   "metadata": {},
   "outputs": [],
   "source": [
    "# override predict method to add threshold value. \n",
    "class logistic_thresh(sklearn.linear_model.LogisticRegression):\n",
    "    def __init__(self,threshold=0.5, penalty='l2', dual=False, tol=0.0001, C=1.0, fit_intercept=True, intercept_scaling=1,\n",
    "                 class_weight=None, random_state=None, solver='lbfgs', max_iter=100, multi_class='auto',\n",
    "                 verbose=0, warm_start=False, n_jobs=None, l1_ratio=None):\n",
    "    \n",
    "        super().__init__(penalty=penalty,dual=dual,tol=tol,C=C,fit_intercept=fit_intercept,intercept_scaling=intercept_scaling,\n",
    "                        class_weight=class_weight,random_state=random_state,solver=solver, max_iter=max_iter,multi_class=multi_class,\n",
    "                        verbose=verbose,warm_start=warm_start,n_jobs=n_jobs,l1_ratio=l1_ratio)\n",
    "        self.threshold = threshold \n",
    "    \n",
    "    def predict(self,X):\n",
    "        positive_prob = self.predict_proba(X)[:,1]\n",
    "        return np.where(positive_prob >self.threshold,1,0)"
   ]
  },
  {
   "cell_type": "code",
   "execution_count": 79,
   "metadata": {},
   "outputs": [
    {
     "data": {
      "text/plain": [
       "array([1, 1, 1, ..., 1, 1, 1])"
      ]
     },
     "execution_count": 79,
     "metadata": {},
     "output_type": "execute_result"
    }
   ],
   "source": [
    "lr_practice = logistic_thresh(threshold=0,penalty='none',class_weight={1:class_weight[1],0:class_weight[0]})\n",
    "lr_practice.fit(hypo_candidate,target_train)\n",
    "lr_practice.predict(hypo_candidate)"
   ]
  },
  {
   "cell_type": "code",
   "execution_count": 80,
   "metadata": {},
   "outputs": [],
   "source": [
    "# run with threshold of 0.4\n",
    "lr_thresh = logistic_thresh(threshold=0.4,penalty='none',class_weight={1:class_weight[1],0:class_weight[0]})\n",
    "cv_thresh = cross_validate(lr_thresh,lasso_candidate,target_train,scoring=dic_scores,cv=5)"
   ]
  },
  {
   "cell_type": "code",
   "execution_count": 81,
   "metadata": {},
   "outputs": [
    {
     "name": "stdout",
     "output_type": "stream",
     "text": [
      "Thereshold set at 0.4\n",
      "Mean recall: 0.9246753246753248\n",
      "Mean specificity: 0.9573682332461988\n"
     ]
    }
   ],
   "source": [
    "print(\"Thereshold set at 0.4\")\n",
    "print(\"Mean recall: {}\".format(cv_thresh['test_recall'].mean()))\n",
    "print(\"Mean specificity: {}\".format(cv_thresh['test_specificity'].mean()))"
   ]
  },
  {
   "cell_type": "markdown",
   "metadata": {},
   "source": [
    "As expected, recall increases by about 2% at the cost of decrese of specifity. Let's see which threshold produces a good combination of recall and specificity. "
   ]
  },
  {
   "cell_type": "code",
   "execution_count": 82,
   "metadata": {},
   "outputs": [],
   "source": [
    "#use gridsearch \n",
    "from sklearn.model_selection import GridSearchCV"
   ]
  },
  {
   "cell_type": "code",
   "execution_count": 83,
   "metadata": {},
   "outputs": [
    {
     "data": {
      "text/plain": [
       "[0.0, 0.1, 0.2, 0.3, 0.4, 0.6, 0.7, 0.8, 0.9, 1.0]"
      ]
     },
     "execution_count": 83,
     "metadata": {},
     "output_type": "execute_result"
    }
   ],
   "source": [
    "list(np.round(np.linspace(0,1,num=10),1))"
   ]
  },
  {
   "cell_type": "code",
   "execution_count": 84,
   "metadata": {},
   "outputs": [],
   "source": [
    "thresholds = {'threshold':list(np.round(np.linspace(0,1,num=10),1))}"
   ]
  },
  {
   "cell_type": "code",
   "execution_count": 85,
   "metadata": {},
   "outputs": [
    {
     "data": {
      "text/plain": [
       "GridSearchCV(cv=5,\n",
       "             estimator=logistic_thresh(class_weight={0: 1.0017172244300823,\n",
       "                                                     1: 583.3350649350649},\n",
       "                                       penalty='none'),\n",
       "             param_grid={'threshold': [0.0, 0.1, 0.2, 0.3, 0.4, 0.6, 0.7, 0.8,\n",
       "                                       0.9, 1.0]},\n",
       "             refit=False,\n",
       "             scoring={'auc': make_scorer(roc_auc_score),\n",
       "                      'recall': make_scorer(recall_score),\n",
       "                      'specificity': make_scorer(specificity)})"
      ]
     },
     "execution_count": 85,
     "metadata": {},
     "output_type": "execute_result"
    }
   ],
   "source": [
    "lr_thresh = logistic_thresh(penalty='none',class_weight={1:class_weight[1],0:class_weight[0]})\n",
    "grid = GridSearchCV(lr_thresh,param_grid=thresholds,scoring=dic_scores,cv=5,refit=False)\n",
    "grid.fit(lasso_candidate,target_train)"
   ]
  },
  {
   "cell_type": "code",
   "execution_count": 86,
   "metadata": {},
   "outputs": [
    {
     "data": {
      "text/html": [
       "<div>\n",
       "<style scoped>\n",
       "    .dataframe tbody tr th:only-of-type {\n",
       "        vertical-align: middle;\n",
       "    }\n",
       "\n",
       "    .dataframe tbody tr th {\n",
       "        vertical-align: top;\n",
       "    }\n",
       "\n",
       "    .dataframe thead th {\n",
       "        text-align: right;\n",
       "    }\n",
       "</style>\n",
       "<table border=\"1\" class=\"dataframe\">\n",
       "  <thead>\n",
       "    <tr style=\"text-align: right;\">\n",
       "      <th></th>\n",
       "      <th>params</th>\n",
       "      <th>mean_test_recall</th>\n",
       "      <th>mean_test_specificity</th>\n",
       "    </tr>\n",
       "  </thead>\n",
       "  <tbody>\n",
       "    <tr>\n",
       "      <th>0</th>\n",
       "      <td>{'threshold': 0.0}</td>\n",
       "      <td>1.000000</td>\n",
       "      <td>0.000000</td>\n",
       "    </tr>\n",
       "    <tr>\n",
       "      <th>1</th>\n",
       "      <td>{'threshold': 0.1}</td>\n",
       "      <td>0.968831</td>\n",
       "      <td>0.786814</td>\n",
       "    </tr>\n",
       "    <tr>\n",
       "      <th>2</th>\n",
       "      <td>{'threshold': 0.2}</td>\n",
       "      <td>0.958442</td>\n",
       "      <td>0.899500</td>\n",
       "    </tr>\n",
       "    <tr>\n",
       "      <th>3</th>\n",
       "      <td>{'threshold': 0.3}</td>\n",
       "      <td>0.940260</td>\n",
       "      <td>0.937087</td>\n",
       "    </tr>\n",
       "    <tr>\n",
       "      <th>4</th>\n",
       "      <td>{'threshold': 0.4}</td>\n",
       "      <td>0.924675</td>\n",
       "      <td>0.957368</td>\n",
       "    </tr>\n",
       "    <tr>\n",
       "      <th>5</th>\n",
       "      <td>{'threshold': 0.6}</td>\n",
       "      <td>0.901299</td>\n",
       "      <td>0.979937</td>\n",
       "    </tr>\n",
       "    <tr>\n",
       "      <th>6</th>\n",
       "      <td>{'threshold': 0.7}</td>\n",
       "      <td>0.888312</td>\n",
       "      <td>0.985954</td>\n",
       "    </tr>\n",
       "    <tr>\n",
       "      <th>7</th>\n",
       "      <td>{'threshold': 0.8}</td>\n",
       "      <td>0.880519</td>\n",
       "      <td>0.990433</td>\n",
       "    </tr>\n",
       "    <tr>\n",
       "      <th>8</th>\n",
       "      <td>{'threshold': 0.9}</td>\n",
       "      <td>0.864935</td>\n",
       "      <td>0.995486</td>\n",
       "    </tr>\n",
       "    <tr>\n",
       "      <th>9</th>\n",
       "      <td>{'threshold': 1.0}</td>\n",
       "      <td>0.000000</td>\n",
       "      <td>1.000000</td>\n",
       "    </tr>\n",
       "  </tbody>\n",
       "</table>\n",
       "</div>"
      ],
      "text/plain": [
       "               params  mean_test_recall  mean_test_specificity\n",
       "0  {'threshold': 0.0}          1.000000               0.000000\n",
       "1  {'threshold': 0.1}          0.968831               0.786814\n",
       "2  {'threshold': 0.2}          0.958442               0.899500\n",
       "3  {'threshold': 0.3}          0.940260               0.937087\n",
       "4  {'threshold': 0.4}          0.924675               0.957368\n",
       "5  {'threshold': 0.6}          0.901299               0.979937\n",
       "6  {'threshold': 0.7}          0.888312               0.985954\n",
       "7  {'threshold': 0.8}          0.880519               0.990433\n",
       "8  {'threshold': 0.9}          0.864935               0.995486\n",
       "9  {'threshold': 1.0}          0.000000               1.000000"
      ]
     },
     "execution_count": 86,
     "metadata": {},
     "output_type": "execute_result"
    }
   ],
   "source": [
    "grid_result= pd.DataFrame(grid.cv_results_)\n",
    "grid_result[['params','mean_test_recall','mean_test_specificity']]"
   ]
  },
  {
   "cell_type": "code",
   "execution_count": 87,
   "metadata": {},
   "outputs": [
    {
     "data": {
      "text/plain": [
       "Text(0.5, 1.0, 'Recall VS Specificity')"
      ]
     },
     "execution_count": 87,
     "metadata": {},
     "output_type": "execute_result"
    },
    {
     "data": {
      "image/png": "[encoded data removed]",
      "text/plain": [
       "<Figure size 720x504 with 1 Axes>"
      ]
     },
     "metadata": {
      "needs_background": "light"
     },
     "output_type": "display_data"
    }
   ],
   "source": [
    "plt.figure(figsize=(10,7))\n",
    "plt.plot(grid_result['mean_test_recall'],label='recall')\n",
    "plt.plot(grid_result['mean_test_specificity'],label='specificity')\n",
    "plt.xticks(range(0,11))\n",
    "plt.yticks(np.linspace(0,1,10))\n",
    "plt.legend()\n",
    "plt.title(\"Recall VS Specificity\")"
   ]
  },
  {
   "cell_type": "markdown",
   "metadata": {},
   "source": [
    "It looks like that there is a good balance between recall and specificity at the threshhold of 0.3. Both of the matrics take about 0.94. I would like to increase recall more, but if I do so in this case, specificity rapidly decrease. Therefore, with a plane logistic regression model, I guess that this is a performance limit. So, let me try some penalty to the model and see if there is an improvement. "
   ]
  },
  {
   "cell_type": "code",
   "execution_count": 88,
   "metadata": {},
   "outputs": [],
   "source": [
    "#add penalty and run cross validation. \n",
    "#add l2 penalty term\n",
    "lr_l2 = logistic_thresh(threshold=0.3,penalty='l2',class_weight={1:class_weight[1],0:class_weight[0]})\n",
    "cv_l2 = cross_validate(lr_l2,lasso_candidate,target_train,scoring=dic_scores,cv=5)"
   ]
  },
  {
   "cell_type": "code",
   "execution_count": 89,
   "metadata": {},
   "outputs": [
    {
     "name": "stdout",
     "output_type": "stream",
     "text": [
      "Thereshold set at 0.3\n",
      "Mean recall: 0.9402597402597402\n",
      "Mean specificity: 0.9371540501561351\n"
     ]
    }
   ],
   "source": [
    "print(\"Thereshold set at 0.3\")\n",
    "print(\"Mean recall: {}\".format(cv_l2['test_recall'].mean()))\n",
    "print(\"Mean specificity: {}\".format(cv_l2['test_specificity'].mean()))"
   ]
  },
  {
   "cell_type": "markdown",
   "metadata": {},
   "source": [
    "It does not look like that there is an improvement. Let'use more flexible models. Here, I am going to use Random Forest. "
   ]
  },
  {
   "cell_type": "code",
   "execution_count": 90,
   "metadata": {},
   "outputs": [],
   "source": [
    "from sklearn.ensemble import RandomForestClassifier"
   ]
  },
  {
   "cell_type": "code",
   "execution_count": 91,
   "metadata": {},
   "outputs": [],
   "source": [
    "rf_default = RandomForestClassifier(class_weight={1:class_weight[1],0:class_weight[0]},random_state=42)\n",
    "cv_rf_default = cross_validate(rf_default,lasso_candidate,target_train,scoring=dic_scores,cv=5)"
   ]
  },
  {
   "cell_type": "code",
   "execution_count": 92,
   "metadata": {},
   "outputs": [
    {
     "data": {
      "text/plain": [
       "{'fit_time': array([16.58932161, 16.32974386, 15.30255151, 14.87070799, 14.99183869]),\n",
       " 'score_time': array([0.25663161, 0.25332236, 0.25135303, 0.23338556, 0.2655282 ]),\n",
       " 'test_recall': array([0.7012987 , 0.74025974, 0.74025974, 0.76623377, 0.68831169]),\n",
       " 'test_specificity': array([0.9999331 , 0.99991079, 0.99988849, 0.9999331 , 0.99986619]),\n",
       " 'test_auc': array([0.8506159 , 0.87008527, 0.87007412, 0.88308343, 0.84408894])}"
      ]
     },
     "execution_count": 92,
     "metadata": {},
     "output_type": "execute_result"
    }
   ],
   "source": [
    "cv_rf_default"
   ]
  },
  {
   "cell_type": "code",
   "execution_count": 93,
   "metadata": {},
   "outputs": [],
   "source": [
    "def print_mean_matrics(recall, specificity):\n",
    "    print(\"Mean recall: {}\".format(recall.mean()))\n",
    "    print(\"Mean specificity: {}\".format(specificity.mean()))"
   ]
  },
  {
   "cell_type": "code",
   "execution_count": 94,
   "metadata": {},
   "outputs": [
    {
     "name": "stdout",
     "output_type": "stream",
     "text": [
      "Mean recall: 0.7272727272727273\n",
      "Mean specificity: 0.9999063330338445\n"
     ]
    }
   ],
   "source": [
    "print_mean_matrics(cv_rf_default['test_recall'],cv_rf_default['test_specificity'])"
   ]
  },
  {
   "cell_type": "markdown",
   "metadata": {},
   "source": [
    "With dafault model, logistic regression performs much better. Let's tweak some parameters to see if the performance is improved"
   ]
  },
  {
   "cell_type": "code",
   "execution_count": 95,
   "metadata": {},
   "outputs": [],
   "source": [
    "rf_500 = RandomForestClassifier(n_estimators=500,class_weight={1:class_weight[1],0:class_weight[0]},random_state=42)\n",
    "cv_rf_500 = cross_validate(rf_default,lasso_candidate,target_train,scoring=dic_scores,cv=5,return_train_score=True)"
   ]
  },
  {
   "cell_type": "code",
   "execution_count": 96,
   "metadata": {},
   "outputs": [
    {
     "name": "stdout",
     "output_type": "stream",
     "text": [
      "Mean recall: 0.7272727272727273\n",
      "Mean specificity: 0.9999063330338445\n"
     ]
    }
   ],
   "source": [
    "print_mean_matrics(cv_rf_500['test_recall'],cv_rf_500['test_specificity'])"
   ]
  },
  {
   "cell_type": "code",
   "execution_count": 97,
   "metadata": {},
   "outputs": [
    {
     "data": {
      "text/plain": [
       "{'fit_time': array([14.90263128, 17.39256287, 17.36506414, 17.41042137, 16.82425094]),\n",
       " 'score_time': array([0.26688123, 0.26556325, 0.26556253, 0.26928091, 0.25930548]),\n",
       " 'test_recall': array([0.7012987 , 0.74025974, 0.74025974, 0.76623377, 0.68831169]),\n",
       " 'train_recall': array([1., 1., 1., 1., 1.]),\n",
       " 'test_specificity': array([0.9999331 , 0.99991079, 0.99988849, 0.9999331 , 0.99986619]),\n",
       " 'train_specificity': array([1., 1., 1., 1., 1.]),\n",
       " 'test_auc': array([0.8506159 , 0.87008527, 0.87007412, 0.88308343, 0.84408894]),\n",
       " 'train_auc': array([1., 1., 1., 1., 1.])}"
      ]
     },
     "execution_count": 97,
     "metadata": {},
     "output_type": "execute_result"
    }
   ],
   "source": [
    "cv_rf_500"
   ]
  },
  {
   "cell_type": "code",
   "execution_count": 98,
   "metadata": {},
   "outputs": [
    {
     "data": {
      "text/plain": [
       "Text(0.5, 0, 'ith fold')"
      ]
     },
     "execution_count": 98,
     "metadata": {},
     "output_type": "execute_result"
    },
    {
     "data": {
      "image/png": "[encoded data removed]",
      "text/plain": [
       "<Figure size 720x576 with 1 Axes>"
      ]
     },
     "metadata": {
      "needs_background": "light"
     },
     "output_type": "display_data"
    }
   ],
   "source": [
    "#plot only recall\n",
    "plt.figure(figsize=(10,8))\n",
    "plt.plot(cv_rf_500['test_recall'],'o-',label='validataopm_recall')\n",
    "plt.plot(cv_rf_500['train_recall'],'o-',label='train_recall')\n",
    "plt.xticks(range(0,5))\n",
    "plt.title('Recall on test VS Recall on training')\n",
    "plt.legend();\n",
    "plt.xlabel('ith fold')"
   ]
  },
  {
   "cell_type": "code",
   "execution_count": 99,
   "metadata": {},
   "outputs": [],
   "source": [
    "#plot only recall\n",
    "def plot_train_test_recall(cv_result):\n",
    "    plt.figure(figsize=(10,8))\n",
    "    plt.plot(cv_result['test_recall'],'o-',label='validataopm_recall')\n",
    "    plt.plot(cv_result['train_recall'],'o-',label='train_recall')\n",
    "    plt.xticks(range(0,5))\n",
    "    plt.title('Recall on test VS Recall on training')\n",
    "    plt.legend();\n",
    "    plt.xlabel('ith fold')"
   ]
  },
  {
   "cell_type": "markdown",
   "metadata": {},
   "source": [
    "It looks like that there is an overfitiing issue. This makes sense because I have not added any regularization on the model. Let's add some regularization using some parameters. I will use randomized grid search to see a good combinations of parameters. "
   ]
  },
  {
   "cell_type": "code",
   "execution_count": 100,
   "metadata": {},
   "outputs": [],
   "source": [
    "from sklearn.model_selection import RandomizedSearchCV"
   ]
  },
  {
   "cell_type": "code",
   "execution_count": 101,
   "metadata": {},
   "outputs": [],
   "source": [
    "params = {\"n_estimators\":[50, 100, 300, 500, 700],\n",
    "         \"max_depth\":[5,10,50,100, 150],\n",
    "         \"max_leaf_nodes\":[5,10,20,40,80]}"
   ]
  },
  {
   "cell_type": "code",
   "execution_count": 102,
   "metadata": {
    "scrolled": true
   },
   "outputs": [
    {
     "data": {
      "text/plain": [
       "RandomizedSearchCV(estimator=RandomForestClassifier(class_weight={0: 1.0017172244300823,\n",
       "                                                                  1: 583.3350649350649},\n",
       "                                                    random_state=42),\n",
       "                   param_distributions={'max_depth': [5, 10, 50, 100, 150],\n",
       "                                        'max_leaf_nodes': [5, 10, 20, 40, 80],\n",
       "                                        'n_estimators': [50, 100, 300, 500,\n",
       "                                                         700]},\n",
       "                   random_state=42, refit=False,\n",
       "                   scoring={'auc': make_scorer(roc_auc_score),\n",
       "                            'recall': make_scorer(recall_score),\n",
       "                            'specificity': make_scorer(specificity)})"
      ]
     },
     "execution_count": 102,
     "metadata": {},
     "output_type": "execute_result"
    }
   ],
   "source": [
    "random_grid = RandomizedSearchCV(RandomForestClassifier(class_weight={1:class_weight[1],0:class_weight[0]},random_state=42),\n",
    "                                 param_distributions=params,\n",
    "                                n_iter=10,\n",
    "                                scoring=dic_scores,\n",
    "                                refit=False,\n",
    "                                random_state=42)\n",
    "random_grid.fit(lasso_candidate,target_train)"
   ]
  },
  {
   "cell_type": "code",
   "execution_count": 103,
   "metadata": {},
   "outputs": [],
   "source": [
    "results = pd.DataFrame(random_grid.cv_results_)"
   ]
  },
  {
   "cell_type": "code",
   "execution_count": 104,
   "metadata": {},
   "outputs": [],
   "source": [
    "results = results[['param_n_estimators','param_max_leaf_nodes','param_max_depth','mean_test_recall','mean_test_specificity']]"
   ]
  },
  {
   "cell_type": "code",
   "execution_count": 105,
   "metadata": {},
   "outputs": [
    {
     "data": {
      "text/html": [
       "<div>\n",
       "<style scoped>\n",
       "    .dataframe tbody tr th:only-of-type {\n",
       "        vertical-align: middle;\n",
       "    }\n",
       "\n",
       "    .dataframe tbody tr th {\n",
       "        vertical-align: top;\n",
       "    }\n",
       "\n",
       "    .dataframe thead th {\n",
       "        text-align: right;\n",
       "    }\n",
       "</style>\n",
       "<table border=\"1\" class=\"dataframe\">\n",
       "  <thead>\n",
       "    <tr style=\"text-align: right;\">\n",
       "      <th></th>\n",
       "      <th>param_n_estimators</th>\n",
       "      <th>param_max_leaf_nodes</th>\n",
       "      <th>param_max_depth</th>\n",
       "      <th>mean_test_recall</th>\n",
       "      <th>mean_test_specificity</th>\n",
       "    </tr>\n",
       "  </thead>\n",
       "  <tbody>\n",
       "    <tr>\n",
       "      <th>4</th>\n",
       "      <td>500</td>\n",
       "      <td>5</td>\n",
       "      <td>50</td>\n",
       "      <td>0.875325</td>\n",
       "      <td>0.984527</td>\n",
       "    </tr>\n",
       "    <tr>\n",
       "      <th>3</th>\n",
       "      <td>100</td>\n",
       "      <td>5</td>\n",
       "      <td>100</td>\n",
       "      <td>0.872727</td>\n",
       "      <td>0.981971</td>\n",
       "    </tr>\n",
       "    <tr>\n",
       "      <th>2</th>\n",
       "      <td>100</td>\n",
       "      <td>20</td>\n",
       "      <td>10</td>\n",
       "      <td>0.870130</td>\n",
       "      <td>0.992774</td>\n",
       "    </tr>\n",
       "    <tr>\n",
       "      <th>6</th>\n",
       "      <td>100</td>\n",
       "      <td>10</td>\n",
       "      <td>50</td>\n",
       "      <td>0.870130</td>\n",
       "      <td>0.987667</td>\n",
       "    </tr>\n",
       "    <tr>\n",
       "      <th>9</th>\n",
       "      <td>700</td>\n",
       "      <td>5</td>\n",
       "      <td>5</td>\n",
       "      <td>0.870130</td>\n",
       "      <td>0.984393</td>\n",
       "    </tr>\n",
       "    <tr>\n",
       "      <th>5</th>\n",
       "      <td>100</td>\n",
       "      <td>40</td>\n",
       "      <td>100</td>\n",
       "      <td>0.851948</td>\n",
       "      <td>0.996931</td>\n",
       "    </tr>\n",
       "    <tr>\n",
       "      <th>0</th>\n",
       "      <td>500</td>\n",
       "      <td>40</td>\n",
       "      <td>5</td>\n",
       "      <td>0.849351</td>\n",
       "      <td>0.995821</td>\n",
       "    </tr>\n",
       "    <tr>\n",
       "      <th>1</th>\n",
       "      <td>300</td>\n",
       "      <td>40</td>\n",
       "      <td>10</td>\n",
       "      <td>0.846753</td>\n",
       "      <td>0.996980</td>\n",
       "    </tr>\n",
       "    <tr>\n",
       "      <th>8</th>\n",
       "      <td>500</td>\n",
       "      <td>40</td>\n",
       "      <td>100</td>\n",
       "      <td>0.844156</td>\n",
       "      <td>0.996985</td>\n",
       "    </tr>\n",
       "    <tr>\n",
       "      <th>7</th>\n",
       "      <td>500</td>\n",
       "      <td>80</td>\n",
       "      <td>150</td>\n",
       "      <td>0.815584</td>\n",
       "      <td>0.999309</td>\n",
       "    </tr>\n",
       "  </tbody>\n",
       "</table>\n",
       "</div>"
      ],
      "text/plain": [
       "  param_n_estimators param_max_leaf_nodes param_max_depth  mean_test_recall  \\\n",
       "4                500                    5              50          0.875325   \n",
       "3                100                    5             100          0.872727   \n",
       "2                100                   20              10          0.870130   \n",
       "6                100                   10              50          0.870130   \n",
       "9                700                    5               5          0.870130   \n",
       "5                100                   40             100          0.851948   \n",
       "0                500                   40               5          0.849351   \n",
       "1                300                   40              10          0.846753   \n",
       "8                500                   40             100          0.844156   \n",
       "7                500                   80             150          0.815584   \n",
       "\n",
       "   mean_test_specificity  \n",
       "4               0.984527  \n",
       "3               0.981971  \n",
       "2               0.992774  \n",
       "6               0.987667  \n",
       "9               0.984393  \n",
       "5               0.996931  \n",
       "0               0.995821  \n",
       "1               0.996980  \n",
       "8               0.996985  \n",
       "7               0.999309  "
      ]
     },
     "execution_count": 105,
     "metadata": {},
     "output_type": "execute_result"
    }
   ],
   "source": [
    "results = results.sort_values('mean_test_recall',axis=0,ascending=False)\n",
    "results"
   ]
  },
  {
   "cell_type": "markdown",
   "metadata": {},
   "source": [
    "Overall, the value of recall is improved well even though it is still lower than logistic regression's recall. I will narrow down my serach space more. Before it, let's see if there is still an overfitting problem."
   ]
  },
  {
   "cell_type": "code",
   "execution_count": 106,
   "metadata": {},
   "outputs": [],
   "source": [
    "random1_best  = RandomForestClassifier(n_estimators=500,class_weight={1:class_weight[1],0:class_weight[0]},\n",
    "                                       max_depth=50,\n",
    "                                       max_leaf_nodes=5,\n",
    "                                      random_state=42)\n",
    "random1_cv = cross_validate(random1_best,lasso_candidate,target_train,scoring=dic_scores,cv=5,return_train_score=True)"
   ]
  },
  {
   "cell_type": "code",
   "execution_count": 107,
   "metadata": {},
   "outputs": [
    {
     "data": {
      "image/png": "[encoded data removed]",
      "text/plain": [
       "<Figure size 720x576 with 1 Axes>"
      ]
     },
     "metadata": {
      "needs_background": "light"
     },
     "output_type": "display_data"
    }
   ],
   "source": [
    "plot_train_test_recall(random1_cv)"
   ]
  },
  {
   "cell_type": "markdown",
   "metadata": {},
   "source": [
    "Looks like the overfitting problem is alsmost gone. "
   ]
  },
  {
   "cell_type": "code",
   "execution_count": 108,
   "metadata": {},
   "outputs": [],
   "source": [
    "params = {\"n_estimators\":[400,450,500,550, 600],\n",
    "         \"max_depth\":[40, 45, 50, 55, 60,],\n",
    "         \"max_leaf_nodes\":[3,5,8,10]}"
   ]
  },
  {
   "cell_type": "code",
   "execution_count": 109,
   "metadata": {},
   "outputs": [
    {
     "data": {
      "text/plain": [
       "RandomizedSearchCV(estimator=RandomForestClassifier(class_weight={0: 1.0017172244300823,\n",
       "                                                                  1: 583.3350649350649},\n",
       "                                                    random_state=42),\n",
       "                   param_distributions={'max_depth': [40, 45, 50, 55, 60],\n",
       "                                        'max_leaf_nodes': [3, 5, 8, 10],\n",
       "                                        'n_estimators': [400, 450, 500, 550,\n",
       "                                                         600]},\n",
       "                   random_state=42, refit=False,\n",
       "                   scoring={'auc': make_scorer(roc_auc_score),\n",
       "                            'recall': make_scorer(recall_score),\n",
       "                            'specificity': make_scorer(specificity)})"
      ]
     },
     "execution_count": 109,
     "metadata": {},
     "output_type": "execute_result"
    }
   ],
   "source": [
    "random_grid2=RandomizedSearchCV(RandomForestClassifier(class_weight={1:class_weight[1],0:class_weight[0]},random_state=42),\n",
    "                                param_distributions=params,\n",
    "                                n_iter=10,\n",
    "                                scoring=dic_scores,\n",
    "                                refit=False,\n",
    "                                random_state=42)\n",
    "random_grid2.fit(lasso_candidate,target_train) "
   ]
  },
  {
   "cell_type": "code",
   "execution_count": 110,
   "metadata": {},
   "outputs": [],
   "source": [
    "results_narrower = pd.DataFrame(random_grid2.cv_results_)\n",
    "results_narrower = results_narrower[['param_n_estimators','param_max_leaf_nodes','param_max_depth','mean_test_recall','mean_test_specificity']]"
   ]
  },
  {
   "cell_type": "code",
   "execution_count": 111,
   "metadata": {},
   "outputs": [
    {
     "data": {
      "text/html": [
       "<div>\n",
       "<style scoped>\n",
       "    .dataframe tbody tr th:only-of-type {\n",
       "        vertical-align: middle;\n",
       "    }\n",
       "\n",
       "    .dataframe tbody tr th {\n",
       "        vertical-align: top;\n",
       "    }\n",
       "\n",
       "    .dataframe thead th {\n",
       "        text-align: right;\n",
       "    }\n",
       "</style>\n",
       "<table border=\"1\" class=\"dataframe\">\n",
       "  <thead>\n",
       "    <tr style=\"text-align: right;\">\n",
       "      <th></th>\n",
       "      <th>param_n_estimators</th>\n",
       "      <th>param_max_leaf_nodes</th>\n",
       "      <th>param_max_depth</th>\n",
       "      <th>mean_test_recall</th>\n",
       "      <th>mean_test_specificity</th>\n",
       "    </tr>\n",
       "  </thead>\n",
       "  <tbody>\n",
       "    <tr>\n",
       "      <th>0</th>\n",
       "      <td>550</td>\n",
       "      <td>3</td>\n",
       "      <td>60</td>\n",
       "      <td>0.875325</td>\n",
       "      <td>0.980647</td>\n",
       "    </tr>\n",
       "    <tr>\n",
       "      <th>1</th>\n",
       "      <td>550</td>\n",
       "      <td>8</td>\n",
       "      <td>50</td>\n",
       "      <td>0.875325</td>\n",
       "      <td>0.986891</td>\n",
       "    </tr>\n",
       "    <tr>\n",
       "      <th>2</th>\n",
       "      <td>400</td>\n",
       "      <td>8</td>\n",
       "      <td>55</td>\n",
       "      <td>0.875325</td>\n",
       "      <td>0.986722</td>\n",
       "    </tr>\n",
       "    <tr>\n",
       "      <th>3</th>\n",
       "      <td>400</td>\n",
       "      <td>5</td>\n",
       "      <td>50</td>\n",
       "      <td>0.872727</td>\n",
       "      <td>0.984398</td>\n",
       "    </tr>\n",
       "    <tr>\n",
       "      <th>4</th>\n",
       "      <td>600</td>\n",
       "      <td>3</td>\n",
       "      <td>50</td>\n",
       "      <td>0.875325</td>\n",
       "      <td>0.980120</td>\n",
       "    </tr>\n",
       "    <tr>\n",
       "      <th>5</th>\n",
       "      <td>600</td>\n",
       "      <td>10</td>\n",
       "      <td>45</td>\n",
       "      <td>0.880519</td>\n",
       "      <td>0.988457</td>\n",
       "    </tr>\n",
       "    <tr>\n",
       "      <th>6</th>\n",
       "      <td>500</td>\n",
       "      <td>3</td>\n",
       "      <td>45</td>\n",
       "      <td>0.875325</td>\n",
       "      <td>0.980691</td>\n",
       "    </tr>\n",
       "    <tr>\n",
       "      <th>7</th>\n",
       "      <td>400</td>\n",
       "      <td>3</td>\n",
       "      <td>60</td>\n",
       "      <td>0.875325</td>\n",
       "      <td>0.981177</td>\n",
       "    </tr>\n",
       "    <tr>\n",
       "      <th>8</th>\n",
       "      <td>400</td>\n",
       "      <td>8</td>\n",
       "      <td>40</td>\n",
       "      <td>0.875325</td>\n",
       "      <td>0.986722</td>\n",
       "    </tr>\n",
       "    <tr>\n",
       "      <th>9</th>\n",
       "      <td>400</td>\n",
       "      <td>3</td>\n",
       "      <td>40</td>\n",
       "      <td>0.875325</td>\n",
       "      <td>0.981177</td>\n",
       "    </tr>\n",
       "  </tbody>\n",
       "</table>\n",
       "</div>"
      ],
      "text/plain": [
       "  param_n_estimators param_max_leaf_nodes param_max_depth  mean_test_recall  \\\n",
       "0                550                    3              60          0.875325   \n",
       "1                550                    8              50          0.875325   \n",
       "2                400                    8              55          0.875325   \n",
       "3                400                    5              50          0.872727   \n",
       "4                600                    3              50          0.875325   \n",
       "5                600                   10              45          0.880519   \n",
       "6                500                    3              45          0.875325   \n",
       "7                400                    3              60          0.875325   \n",
       "8                400                    8              40          0.875325   \n",
       "9                400                    3              40          0.875325   \n",
       "\n",
       "   mean_test_specificity  \n",
       "0               0.980647  \n",
       "1               0.986891  \n",
       "2               0.986722  \n",
       "3               0.984398  \n",
       "4               0.980120  \n",
       "5               0.988457  \n",
       "6               0.980691  \n",
       "7               0.981177  \n",
       "8               0.986722  \n",
       "9               0.981177  "
      ]
     },
     "execution_count": 111,
     "metadata": {},
     "output_type": "execute_result"
    }
   ],
   "source": [
    "results_narrower"
   ]
  },
  {
   "cell_type": "code",
   "execution_count": 113,
   "metadata": {},
   "outputs": [],
   "source": [
    "random2_best  = RandomForestClassifier(n_estimators=700,class_weight={1:class_weight[1],0:class_weight[0]},\n",
    "                                       max_depth=60,\n",
    "                                       max_leaf_nodes=5,\n",
    "                                      random_state=42)\n",
    "random2_cv = cross_validate(random2_best,lasso_candidate,target_train,scoring=dic_scores,cv=5,return_train_score=True)"
   ]
  },
  {
   "cell_type": "code",
   "execution_count": 114,
   "metadata": {},
   "outputs": [
    {
     "data": {
      "image/png": "[encoded data removed]",
      "text/plain": [
       "<Figure size 720x576 with 1 Axes>"
      ]
     },
     "metadata": {
      "needs_background": "light"
     },
     "output_type": "display_data"
    }
   ],
   "source": [
    "plot_train_test_recall(random2_cv)"
   ]
  },
  {
   "cell_type": "markdown",
   "metadata": {},
   "source": [
    "Looks same as last one. I think that current one is one of good models that I can achieve by using Random Forest. Since Random Forest can also calculate probability, let's tweak it."
   ]
  },
  {
   "cell_type": "code",
   "execution_count": 115,
   "metadata": {},
   "outputs": [],
   "source": [
    "class RandomForest_thresh(sklearn.ensemble.RandomForestClassifier):\n",
    "    def __init__(self, threshold,n_estimators=100,*,criterion='gini',\n",
    "                 max_depth=None, min_samples_split=2,\n",
    "                 min_samples_leaf=1, min_weight_fraction_leaf=0.0, \n",
    "                 max_features='auto', max_leaf_nodes=None, min_impurity_decrease=0.0, \n",
    "                 min_impurity_split=None, bootstrap=True, oob_score=False, n_jobs=None, \n",
    "                 random_state=None, verbose=0, warm_start=False, class_weight=None, ccp_alpha=0.0,\n",
    "                 max_samples=None):\n",
    "    \n",
    "        super().__init__(n_estimators=n_estimators,criterion=criterion, max_depth=max_depth,\n",
    "                        min_samples_split=min_samples_split,min_samples_leaf=min_samples_leaf, \n",
    "                         min_weight_fraction_leaf=min_weight_fraction_leaf, max_features=max_features,\n",
    "                        max_leaf_nodes=max_leaf_nodes,min_impurity_decrease=min_impurity_decrease,\n",
    "                        min_impurity_split=min_impurity_split, bootstrap=bootstrap, oob_score=oob_score,n_jobs=n_jobs,\n",
    "                        random_state=random_state,verbose=verbose,warm_start=warm_start,class_weight=class_weight,\n",
    "                        ccp_alpha=ccp_alpha,max_samples=max_samples)\n",
    "        self.threshold = threshold \n",
    "    \n",
    "    def predict(self,X):\n",
    "        positive_prob = self.predict_proba(X)[:,1]\n",
    "        return np.where(positive_prob >self.threshold,1,0)"
   ]
  },
  {
   "cell_type": "code",
   "execution_count": 117,
   "metadata": {},
   "outputs": [],
   "source": [
    "random1_best_thresh  = RandomForest_thresh(0.20,n_estimators=50,class_weight={1:class_weight[1],0:class_weight[0]},max_depth=100,max_leaf_nodes=10,random_state=42)\n",
    "random1_cv_thresh = cross_validate(random1_best_thresh,lasso_candidate,target_train,scoring=dic_scores,cv=5,return_train_score=True)"
   ]
  },
  {
   "cell_type": "code",
   "execution_count": 118,
   "metadata": {},
   "outputs": [
    {
     "name": "stdout",
     "output_type": "stream",
     "text": [
      "Mean recall: 0.9402597402597402\n",
      "Mean specificity: 0.9234742436309794\n"
     ]
    }
   ],
   "source": [
    "print_mean_matrics(random1_cv_thresh['test_recall'],random1_cv_thresh['test_specificity'])"
   ]
  },
  {
   "cell_type": "markdown",
   "metadata": {},
   "source": [
    "Let's use Gradientboosting classifier "
   ]
  },
  {
   "cell_type": "code",
   "execution_count": 119,
   "metadata": {},
   "outputs": [],
   "source": [
    "from sklearn.ensemble import GradientBoostingClassifier\n",
    "from sklearn.ensemble import AdaBoostClassifier"
   ]
  },
  {
   "cell_type": "code",
   "execution_count": 120,
   "metadata": {},
   "outputs": [],
   "source": [
    "ada = AdaBoostClassifier(random_state=42) \n",
    "ada_cv = cross_validate(ada,lasso_candidate,target_train,scoring=dic_scores,cv=5,return_train_score=True)"
   ]
  },
  {
   "cell_type": "code",
   "execution_count": 121,
   "metadata": {},
   "outputs": [],
   "source": [
    "gbc = GradientBoostingClassifier(random_state=42)\n",
    "gbc_cv = cross_validate(gbc,lasso_candidate,target_train,scoring=dic_scores,cv=5,return_train_score=True)"
   ]
  },
  {
   "cell_type": "code",
   "execution_count": 122,
   "metadata": {},
   "outputs": [
    {
     "data": {
      "text/html": [
       "<div>\n",
       "<style scoped>\n",
       "    .dataframe tbody tr th:only-of-type {\n",
       "        vertical-align: middle;\n",
       "    }\n",
       "\n",
       "    .dataframe tbody tr th {\n",
       "        vertical-align: top;\n",
       "    }\n",
       "\n",
       "    .dataframe thead th {\n",
       "        text-align: right;\n",
       "    }\n",
       "</style>\n",
       "<table border=\"1\" class=\"dataframe\">\n",
       "  <thead>\n",
       "    <tr style=\"text-align: right;\">\n",
       "      <th></th>\n",
       "      <th>fit_time</th>\n",
       "      <th>score_time</th>\n",
       "      <th>test_recall</th>\n",
       "      <th>train_recall</th>\n",
       "      <th>test_specificity</th>\n",
       "      <th>train_specificity</th>\n",
       "      <th>test_auc</th>\n",
       "      <th>train_auc</th>\n",
       "    </tr>\n",
       "  </thead>\n",
       "  <tbody>\n",
       "    <tr>\n",
       "      <th>0</th>\n",
       "      <td>5.797438</td>\n",
       "      <td>0.171808</td>\n",
       "      <td>0.662338</td>\n",
       "      <td>0.633117</td>\n",
       "      <td>0.999710</td>\n",
       "      <td>0.999788</td>\n",
       "      <td>0.831024</td>\n",
       "      <td>0.816453</td>\n",
       "    </tr>\n",
       "    <tr>\n",
       "      <th>1</th>\n",
       "      <td>5.859174</td>\n",
       "      <td>0.176155</td>\n",
       "      <td>0.623377</td>\n",
       "      <td>0.685065</td>\n",
       "      <td>0.999777</td>\n",
       "      <td>0.999755</td>\n",
       "      <td>0.811577</td>\n",
       "      <td>0.842410</td>\n",
       "    </tr>\n",
       "    <tr>\n",
       "      <th>2</th>\n",
       "      <td>5.734378</td>\n",
       "      <td>0.171800</td>\n",
       "      <td>0.610390</td>\n",
       "      <td>0.678571</td>\n",
       "      <td>0.999732</td>\n",
       "      <td>0.999760</td>\n",
       "      <td>0.805061</td>\n",
       "      <td>0.839166</td>\n",
       "    </tr>\n",
       "    <tr>\n",
       "      <th>3</th>\n",
       "      <td>5.765031</td>\n",
       "      <td>0.171802</td>\n",
       "      <td>0.649351</td>\n",
       "      <td>0.662338</td>\n",
       "      <td>0.999866</td>\n",
       "      <td>0.999866</td>\n",
       "      <td>0.824608</td>\n",
       "      <td>0.831102</td>\n",
       "    </tr>\n",
       "    <tr>\n",
       "      <th>4</th>\n",
       "      <td>5.597694</td>\n",
       "      <td>0.156208</td>\n",
       "      <td>0.675325</td>\n",
       "      <td>0.678571</td>\n",
       "      <td>0.999732</td>\n",
       "      <td>0.999771</td>\n",
       "      <td>0.837529</td>\n",
       "      <td>0.839171</td>\n",
       "    </tr>\n",
       "  </tbody>\n",
       "</table>\n",
       "</div>"
      ],
      "text/plain": [
       "   fit_time  score_time  test_recall  train_recall  test_specificity  \\\n",
       "0  5.797438    0.171808     0.662338      0.633117          0.999710   \n",
       "1  5.859174    0.176155     0.623377      0.685065          0.999777   \n",
       "2  5.734378    0.171800     0.610390      0.678571          0.999732   \n",
       "3  5.765031    0.171802     0.649351      0.662338          0.999866   \n",
       "4  5.597694    0.156208     0.675325      0.678571          0.999732   \n",
       "\n",
       "   train_specificity  test_auc  train_auc  \n",
       "0           0.999788  0.831024   0.816453  \n",
       "1           0.999755  0.811577   0.842410  \n",
       "2           0.999760  0.805061   0.839166  \n",
       "3           0.999866  0.824608   0.831102  \n",
       "4           0.999771  0.837529   0.839171  "
      ]
     },
     "execution_count": 122,
     "metadata": {},
     "output_type": "execute_result"
    }
   ],
   "source": [
    "ada_df = pd.DataFrame(ada_cv)\n",
    "ada_df"
   ]
  },
  {
   "cell_type": "code",
   "execution_count": 123,
   "metadata": {},
   "outputs": [
    {
     "data": {
      "text/html": [
       "<div>\n",
       "<style scoped>\n",
       "    .dataframe tbody tr th:only-of-type {\n",
       "        vertical-align: middle;\n",
       "    }\n",
       "\n",
       "    .dataframe tbody tr th {\n",
       "        vertical-align: top;\n",
       "    }\n",
       "\n",
       "    .dataframe thead th {\n",
       "        text-align: right;\n",
       "    }\n",
       "</style>\n",
       "<table border=\"1\" class=\"dataframe\">\n",
       "  <thead>\n",
       "    <tr style=\"text-align: right;\">\n",
       "      <th></th>\n",
       "      <th>fit_time</th>\n",
       "      <th>score_time</th>\n",
       "      <th>test_recall</th>\n",
       "      <th>train_recall</th>\n",
       "      <th>test_specificity</th>\n",
       "      <th>train_specificity</th>\n",
       "      <th>test_auc</th>\n",
       "      <th>train_auc</th>\n",
       "    </tr>\n",
       "  </thead>\n",
       "  <tbody>\n",
       "    <tr>\n",
       "      <th>0</th>\n",
       "      <td>25.331210</td>\n",
       "      <td>0.054144</td>\n",
       "      <td>0.337662</td>\n",
       "      <td>0.435065</td>\n",
       "      <td>0.999755</td>\n",
       "      <td>0.999877</td>\n",
       "      <td>0.668709</td>\n",
       "      <td>0.717471</td>\n",
       "    </tr>\n",
       "    <tr>\n",
       "      <th>1</th>\n",
       "      <td>25.123379</td>\n",
       "      <td>0.043893</td>\n",
       "      <td>0.688312</td>\n",
       "      <td>0.688312</td>\n",
       "      <td>0.999688</td>\n",
       "      <td>0.999727</td>\n",
       "      <td>0.844000</td>\n",
       "      <td>0.844019</td>\n",
       "    </tr>\n",
       "    <tr>\n",
       "      <th>2</th>\n",
       "      <td>25.126163</td>\n",
       "      <td>0.046896</td>\n",
       "      <td>0.649351</td>\n",
       "      <td>0.711039</td>\n",
       "      <td>0.998729</td>\n",
       "      <td>0.998991</td>\n",
       "      <td>0.824040</td>\n",
       "      <td>0.855015</td>\n",
       "    </tr>\n",
       "    <tr>\n",
       "      <th>3</th>\n",
       "      <td>25.180106</td>\n",
       "      <td>0.046871</td>\n",
       "      <td>0.207792</td>\n",
       "      <td>0.214286</td>\n",
       "      <td>0.999978</td>\n",
       "      <td>0.999972</td>\n",
       "      <td>0.603885</td>\n",
       "      <td>0.607129</td>\n",
       "    </tr>\n",
       "    <tr>\n",
       "      <th>4</th>\n",
       "      <td>24.669616</td>\n",
       "      <td>0.031240</td>\n",
       "      <td>0.116883</td>\n",
       "      <td>0.116883</td>\n",
       "      <td>1.000000</td>\n",
       "      <td>0.999989</td>\n",
       "      <td>0.558442</td>\n",
       "      <td>0.558436</td>\n",
       "    </tr>\n",
       "  </tbody>\n",
       "</table>\n",
       "</div>"
      ],
      "text/plain": [
       "    fit_time  score_time  test_recall  train_recall  test_specificity  \\\n",
       "0  25.331210    0.054144     0.337662      0.435065          0.999755   \n",
       "1  25.123379    0.043893     0.688312      0.688312          0.999688   \n",
       "2  25.126163    0.046896     0.649351      0.711039          0.998729   \n",
       "3  25.180106    0.046871     0.207792      0.214286          0.999978   \n",
       "4  24.669616    0.031240     0.116883      0.116883          1.000000   \n",
       "\n",
       "   train_specificity  test_auc  train_auc  \n",
       "0           0.999877  0.668709   0.717471  \n",
       "1           0.999727  0.844000   0.844019  \n",
       "2           0.998991  0.824040   0.855015  \n",
       "3           0.999972  0.603885   0.607129  \n",
       "4           0.999989  0.558442   0.558436  "
      ]
     },
     "execution_count": 123,
     "metadata": {},
     "output_type": "execute_result"
    }
   ],
   "source": [
    "gbc_df = pd.DataFrame(gbc_cv)\n",
    "gbc_df"
   ]
  },
  {
   "cell_type": "markdown",
   "metadata": {},
   "source": [
    "Adaboosting is faster and looks better. So, I will play with it. "
   ]
  },
  {
   "cell_type": "code",
   "execution_count": 124,
   "metadata": {},
   "outputs": [],
   "source": [
    "from scipy import stats"
   ]
  },
  {
   "cell_type": "code",
   "execution_count": 125,
   "metadata": {},
   "outputs": [],
   "source": [
    "params ={'n_estimators':[100,200,300,400,500],\n",
    "         'learning_rate':stats.uniform,\n",
    "         'algorithm':['SAMME', 'SAMME.R']}"
   ]
  },
  {
   "cell_type": "code",
   "execution_count": 126,
   "metadata": {},
   "outputs": [
    {
     "data": {
      "text/plain": [
       "RandomizedSearchCV(estimator=AdaBoostClassifier(random_state=42),\n",
       "                   param_distributions={'algorithm': ['SAMME', 'SAMME.R'],\n",
       "                                        'learning_rate': <scipy.stats._continuous_distns.uniform_gen object at 0x00000207D7A07250>,\n",
       "                                        'n_estimators': [100, 200, 300, 400,\n",
       "                                                         500]},\n",
       "                   random_state=42, refit=False, return_train_score=True,\n",
       "                   scoring={'auc': make_scorer(roc_auc_score),\n",
       "                            'recall': make_scorer(recall_score),\n",
       "                            'specificity': make_scorer(specificity)})"
      ]
     },
     "execution_count": 126,
     "metadata": {},
     "output_type": "execute_result"
    }
   ],
   "source": [
    "ada_random = RandomizedSearchCV(AdaBoostClassifier(random_state=42),param_distributions=params,\n",
    "                                scoring=dic_scores,refit=False,random_state=42, \n",
    "                                return_train_score=True) \n",
    "ada_random.fit(lasso_candidate,target_train)"
   ]
  },
  {
   "cell_type": "code",
   "execution_count": 127,
   "metadata": {},
   "outputs": [],
   "source": [
    "ada_radomcv_results = pd.DataFrame(ada_random.cv_results_)\n",
    "ada_radomcv_results = ada_radomcv_results[['mean_fit_time','param_algorithm','param_learning_rate',\n",
    "            'param_n_estimators','mean_train_recall','mean_train_specificity',\n",
    "           'mean_test_recall','mean_test_specificity']]"
   ]
  },
  {
   "cell_type": "code",
   "execution_count": 128,
   "metadata": {},
   "outputs": [
    {
     "data": {
      "text/html": [
       "<div>\n",
       "<style scoped>\n",
       "    .dataframe tbody tr th:only-of-type {\n",
       "        vertical-align: middle;\n",
       "    }\n",
       "\n",
       "    .dataframe tbody tr th {\n",
       "        vertical-align: top;\n",
       "    }\n",
       "\n",
       "    .dataframe thead th {\n",
       "        text-align: right;\n",
       "    }\n",
       "</style>\n",
       "<table border=\"1\" class=\"dataframe\">\n",
       "  <thead>\n",
       "    <tr style=\"text-align: right;\">\n",
       "      <th></th>\n",
       "      <th>mean_fit_time</th>\n",
       "      <th>param_algorithm</th>\n",
       "      <th>param_learning_rate</th>\n",
       "      <th>param_n_estimators</th>\n",
       "      <th>mean_train_recall</th>\n",
       "      <th>mean_train_specificity</th>\n",
       "      <th>mean_test_recall</th>\n",
       "      <th>mean_test_specificity</th>\n",
       "    </tr>\n",
       "  </thead>\n",
       "  <tbody>\n",
       "    <tr>\n",
       "      <th>5</th>\n",
       "      <td>47.119543</td>\n",
       "      <td>SAMME.R</td>\n",
       "      <td>0.212339</td>\n",
       "      <td>400</td>\n",
       "      <td>0.692857</td>\n",
       "      <td>0.999807</td>\n",
       "      <td>0.675325</td>\n",
       "      <td>0.999790</td>\n",
       "    </tr>\n",
       "    <tr>\n",
       "      <th>9</th>\n",
       "      <td>34.873607</td>\n",
       "      <td>SAMME.R</td>\n",
       "      <td>0.292145</td>\n",
       "      <td>300</td>\n",
       "      <td>0.689610</td>\n",
       "      <td>0.999829</td>\n",
       "      <td>0.675325</td>\n",
       "      <td>0.999826</td>\n",
       "    </tr>\n",
       "    <tr>\n",
       "      <th>1</th>\n",
       "      <td>23.315018</td>\n",
       "      <td>SAMME.R</td>\n",
       "      <td>0.598658</td>\n",
       "      <td>200</td>\n",
       "      <td>0.684416</td>\n",
       "      <td>0.999815</td>\n",
       "      <td>0.672727</td>\n",
       "      <td>0.999781</td>\n",
       "    </tr>\n",
       "    <tr>\n",
       "      <th>3</th>\n",
       "      <td>34.772052</td>\n",
       "      <td>SAMME.R</td>\n",
       "      <td>0.333709</td>\n",
       "      <td>300</td>\n",
       "      <td>0.685714</td>\n",
       "      <td>0.999837</td>\n",
       "      <td>0.667532</td>\n",
       "      <td>0.999822</td>\n",
       "    </tr>\n",
       "    <tr>\n",
       "      <th>4</th>\n",
       "      <td>47.086386</td>\n",
       "      <td>SAMME.R</td>\n",
       "      <td>0.0564116</td>\n",
       "      <td>400</td>\n",
       "      <td>0.662987</td>\n",
       "      <td>0.999742</td>\n",
       "      <td>0.667532</td>\n",
       "      <td>0.999723</td>\n",
       "    </tr>\n",
       "    <tr>\n",
       "      <th>0</th>\n",
       "      <td>30.881294</td>\n",
       "      <td>SAMME</td>\n",
       "      <td>0.796543</td>\n",
       "      <td>300</td>\n",
       "      <td>0.633766</td>\n",
       "      <td>0.999797</td>\n",
       "      <td>0.638961</td>\n",
       "      <td>0.999786</td>\n",
       "    </tr>\n",
       "    <tr>\n",
       "      <th>8</th>\n",
       "      <td>20.495316</td>\n",
       "      <td>SAMME</td>\n",
       "      <td>0.524775</td>\n",
       "      <td>200</td>\n",
       "      <td>0.627273</td>\n",
       "      <td>0.999752</td>\n",
       "      <td>0.636364</td>\n",
       "      <td>0.999723</td>\n",
       "    </tr>\n",
       "    <tr>\n",
       "      <th>6</th>\n",
       "      <td>20.716832</td>\n",
       "      <td>SAMME</td>\n",
       "      <td>0.617482</td>\n",
       "      <td>200</td>\n",
       "      <td>0.622727</td>\n",
       "      <td>0.999769</td>\n",
       "      <td>0.625974</td>\n",
       "      <td>0.999741</td>\n",
       "    </tr>\n",
       "    <tr>\n",
       "      <th>2</th>\n",
       "      <td>30.997175</td>\n",
       "      <td>SAMME</td>\n",
       "      <td>0.0999749</td>\n",
       "      <td>300</td>\n",
       "      <td>0.603896</td>\n",
       "      <td>0.999825</td>\n",
       "      <td>0.600000</td>\n",
       "      <td>0.999826</td>\n",
       "    </tr>\n",
       "    <tr>\n",
       "      <th>7</th>\n",
       "      <td>11.412627</td>\n",
       "      <td>SAMME.R</td>\n",
       "      <td>0.00706631</td>\n",
       "      <td>100</td>\n",
       "      <td>0.574026</td>\n",
       "      <td>0.999838</td>\n",
       "      <td>0.566234</td>\n",
       "      <td>0.999835</td>\n",
       "    </tr>\n",
       "  </tbody>\n",
       "</table>\n",
       "</div>"
      ],
      "text/plain": [
       "   mean_fit_time param_algorithm param_learning_rate param_n_estimators  \\\n",
       "5      47.119543         SAMME.R            0.212339                400   \n",
       "9      34.873607         SAMME.R            0.292145                300   \n",
       "1      23.315018         SAMME.R            0.598658                200   \n",
       "3      34.772052         SAMME.R            0.333709                300   \n",
       "4      47.086386         SAMME.R           0.0564116                400   \n",
       "0      30.881294           SAMME            0.796543                300   \n",
       "8      20.495316           SAMME            0.524775                200   \n",
       "6      20.716832           SAMME            0.617482                200   \n",
       "2      30.997175           SAMME           0.0999749                300   \n",
       "7      11.412627         SAMME.R          0.00706631                100   \n",
       "\n",
       "   mean_train_recall  mean_train_specificity  mean_test_recall  \\\n",
       "5           0.692857                0.999807          0.675325   \n",
       "9           0.689610                0.999829          0.675325   \n",
       "1           0.684416                0.999815          0.672727   \n",
       "3           0.685714                0.999837          0.667532   \n",
       "4           0.662987                0.999742          0.667532   \n",
       "0           0.633766                0.999797          0.638961   \n",
       "8           0.627273                0.999752          0.636364   \n",
       "6           0.622727                0.999769          0.625974   \n",
       "2           0.603896                0.999825          0.600000   \n",
       "7           0.574026                0.999838          0.566234   \n",
       "\n",
       "   mean_test_specificity  \n",
       "5               0.999790  \n",
       "9               0.999826  \n",
       "1               0.999781  \n",
       "3               0.999822  \n",
       "4               0.999723  \n",
       "0               0.999786  \n",
       "8               0.999723  \n",
       "6               0.999741  \n",
       "2               0.999826  \n",
       "7               0.999835  "
      ]
     },
     "execution_count": 128,
     "metadata": {},
     "output_type": "execute_result"
    }
   ],
   "source": [
    "ada_radomcv_results.sort_values('mean_test_recall',axis=0,ascending=False)"
   ]
  },
  {
   "cell_type": "markdown",
   "metadata": {},
   "source": [
    "It looks like that I cannot get good performance from Adaboosting because I cannot see improvement on mean_test_recall. Probably this is because the base estimator is decision tree. It seems like that algorithms based on decision trees do not really work well because RandomForest also does not work well as we saw earlier. "
   ]
  },
  {
   "cell_type": "markdown",
   "metadata": {},
   "source": [
    "How about suport vector machine? I will use linear SVM classifier."
   ]
  },
  {
   "cell_type": "code",
   "execution_count": 129,
   "metadata": {},
   "outputs": [],
   "source": [
    "from sklearn.svm import LinearSVC\n",
    "from sklearn.preprocessing import StandardScaler\n",
    "from sklearn.pipeline import Pipeline"
   ]
  },
  {
   "cell_type": "code",
   "execution_count": 130,
   "metadata": {},
   "outputs": [],
   "source": [
    "#svm is sensitive to feature scaling, so I added standard scaler\n",
    "svm_clf = Pipeline([\n",
    "    (\"scaler\",StandardScaler()),\n",
    "    ('linear_svc',LinearSVC(loss='hinge',class_weight={1:class_weight[1],0:class_weight[0]},random_state=42))\n",
    "])"
   ]
  },
  {
   "cell_type": "code",
   "execution_count": 131,
   "metadata": {},
   "outputs": [],
   "source": [
    "#run linear svc with default setting using cross validation \n",
    "cv_linearsvc = cross_validate(svm_clf,lasso_candidate,target_train,scoring=dic_scores,return_train_score=True)"
   ]
  },
  {
   "cell_type": "code",
   "execution_count": 132,
   "metadata": {},
   "outputs": [
    {
     "data": {
      "text/html": [
       "<div>\n",
       "<style scoped>\n",
       "    .dataframe tbody tr th:only-of-type {\n",
       "        vertical-align: middle;\n",
       "    }\n",
       "\n",
       "    .dataframe tbody tr th {\n",
       "        vertical-align: top;\n",
       "    }\n",
       "\n",
       "    .dataframe thead th {\n",
       "        text-align: right;\n",
       "    }\n",
       "</style>\n",
       "<table border=\"1\" class=\"dataframe\">\n",
       "  <thead>\n",
       "    <tr style=\"text-align: right;\">\n",
       "      <th></th>\n",
       "      <th>fit_time</th>\n",
       "      <th>score_time</th>\n",
       "      <th>test_recall</th>\n",
       "      <th>train_recall</th>\n",
       "      <th>test_specificity</th>\n",
       "      <th>train_specificity</th>\n",
       "      <th>test_auc</th>\n",
       "      <th>train_auc</th>\n",
       "    </tr>\n",
       "  </thead>\n",
       "  <tbody>\n",
       "    <tr>\n",
       "      <th>0</th>\n",
       "      <td>14.362854</td>\n",
       "      <td>0.031211</td>\n",
       "      <td>0.805195</td>\n",
       "      <td>0.762987</td>\n",
       "      <td>0.999599</td>\n",
       "      <td>0.999509</td>\n",
       "      <td>0.902397</td>\n",
       "      <td>0.881248</td>\n",
       "    </tr>\n",
       "    <tr>\n",
       "      <th>1</th>\n",
       "      <td>14.470256</td>\n",
       "      <td>0.031210</td>\n",
       "      <td>0.766234</td>\n",
       "      <td>0.766234</td>\n",
       "      <td>0.999554</td>\n",
       "      <td>0.999582</td>\n",
       "      <td>0.882894</td>\n",
       "      <td>0.882908</td>\n",
       "    </tr>\n",
       "    <tr>\n",
       "      <th>2</th>\n",
       "      <td>14.659113</td>\n",
       "      <td>0.031237</td>\n",
       "      <td>0.779221</td>\n",
       "      <td>0.824675</td>\n",
       "      <td>0.998662</td>\n",
       "      <td>0.999030</td>\n",
       "      <td>0.888941</td>\n",
       "      <td>0.911853</td>\n",
       "    </tr>\n",
       "    <tr>\n",
       "      <th>3</th>\n",
       "      <td>14.507572</td>\n",
       "      <td>0.031210</td>\n",
       "      <td>0.857143</td>\n",
       "      <td>0.840909</td>\n",
       "      <td>0.998238</td>\n",
       "      <td>0.998065</td>\n",
       "      <td>0.927691</td>\n",
       "      <td>0.919487</td>\n",
       "    </tr>\n",
       "    <tr>\n",
       "      <th>4</th>\n",
       "      <td>14.256895</td>\n",
       "      <td>0.031211</td>\n",
       "      <td>0.740260</td>\n",
       "      <td>0.798701</td>\n",
       "      <td>0.999532</td>\n",
       "      <td>0.999426</td>\n",
       "      <td>0.869896</td>\n",
       "      <td>0.899064</td>\n",
       "    </tr>\n",
       "  </tbody>\n",
       "</table>\n",
       "</div>"
      ],
      "text/plain": [
       "    fit_time  score_time  test_recall  train_recall  test_specificity  \\\n",
       "0  14.362854    0.031211     0.805195      0.762987          0.999599   \n",
       "1  14.470256    0.031210     0.766234      0.766234          0.999554   \n",
       "2  14.659113    0.031237     0.779221      0.824675          0.998662   \n",
       "3  14.507572    0.031210     0.857143      0.840909          0.998238   \n",
       "4  14.256895    0.031211     0.740260      0.798701          0.999532   \n",
       "\n",
       "   train_specificity  test_auc  train_auc  \n",
       "0           0.999509  0.902397   0.881248  \n",
       "1           0.999582  0.882894   0.882908  \n",
       "2           0.999030  0.888941   0.911853  \n",
       "3           0.998065  0.927691   0.919487  \n",
       "4           0.999426  0.869896   0.899064  "
      ]
     },
     "execution_count": 132,
     "metadata": {},
     "output_type": "execute_result"
    }
   ],
   "source": [
    "cv_result_linearsvc = pd.DataFrame(cv_linearsvc)\n",
    "cv_result_linearsvc"
   ]
  },
  {
   "cell_type": "code",
   "execution_count": 133,
   "metadata": {},
   "outputs": [
    {
     "name": "stdout",
     "output_type": "stream",
     "text": [
      "Mean recall: 0.7896103896103897\n",
      "Mean specificity: 0.9991168578575277\n"
     ]
    }
   ],
   "source": [
    "print_mean_matrics(cv_result_linearsvc['test_recall'],cv_result_linearsvc['test_specificity'])"
   ]
  },
  {
   "cell_type": "markdown",
   "metadata": {},
   "source": [
    "Not really bad. Let's tweak some parameters. "
   ]
  },
  {
   "cell_type": "code",
   "execution_count": 134,
   "metadata": {},
   "outputs": [],
   "source": [
    "params = {'linear_svc__C':[0.01,0.1,1,10,100]}"
   ]
  },
  {
   "cell_type": "code",
   "execution_count": 135,
   "metadata": {},
   "outputs": [
    {
     "data": {
      "text/plain": [
       "RandomizedSearchCV(estimator=Pipeline(steps=[('scaler', StandardScaler()),\n",
       "                                             ('linear_svc',\n",
       "                                              LinearSVC(class_weight={0: 1.0017172244300823,\n",
       "                                                                      1: 583.3350649350649},\n",
       "                                                        loss='hinge',\n",
       "                                                        random_state=42))]),\n",
       "                   param_distributions={'linear_svc__C': [0.01, 0.1, 1, 10,\n",
       "                                                          100]},\n",
       "                   random_state=42, refit=False, return_train_score=True,\n",
       "                   scoring={'auc': make_scorer(roc_auc_score),\n",
       "                            'recall': make_scorer(recall_score),\n",
       "                            'specificity': make_scorer(specificity)})"
      ]
     },
     "execution_count": 135,
     "metadata": {},
     "output_type": "execute_result"
    }
   ],
   "source": [
    "random_svc = RandomizedSearchCV(svm_clf,param_distributions=params,scoring=dic_scores,return_train_score=True,refit=False,random_state=42)\n",
    "random_svc.fit(lasso_candidate,target_train)"
   ]
  },
  {
   "cell_type": "code",
   "execution_count": null,
   "metadata": {},
   "outputs": [],
   "source": [
    "random_svc.cv_results_"
   ]
  },
  {
   "cell_type": "code",
   "execution_count": null,
   "metadata": {},
   "outputs": [],
   "source": []
  }
 ],
 "metadata": {
  "kernelspec": {
   "display_name": "Python 3",
   "language": "python",
   "name": "python3"
  },
  "language_info": {
   "codemirror_mode": {
    "name": "ipython",
    "version": 3
   },
   "file_extension": ".py",
   "mimetype": "text/x-python",
   "name": "python",
   "nbconvert_exporter": "python",
   "pygments_lexer": "ipython3",
   "version": "3.8.5"
  }
 },
 "nbformat": 4,
 "nbformat_minor": 4
}
